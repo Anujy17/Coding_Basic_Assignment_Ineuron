{
 "cells": [
  {
   "cell_type": "markdown",
   "id": "d6753031",
   "metadata": {},
   "source": [
    "# Programming Assignment 20"
   ]
  },
  {
   "cell_type": "markdown",
   "id": "aaad6b49",
   "metadata": {},
   "source": [
    "# Create a function that takes a list of strings and integers, and filters out the list so that itreturns a list of integers only."
   ]
  },
  {
   "cell_type": "code",
   "execution_count": 3,
   "id": "dc85c52f",
   "metadata": {},
   "outputs": [
    {
     "name": "stdout",
     "output_type": "stream",
     "text": [
      "[1, 2, 3]\n"
     ]
    }
   ],
   "source": [
    "lst=[1,2,3,'a','b']\n",
    "list_=list(filter(lambda x :type(x)==int,lst))\n",
    "print(list_)"
   ]
  },
  {
   "cell_type": "markdown",
   "id": "32dfe6a2",
   "metadata": {},
   "source": [
    "# Given a list of numbers, create a function which returns the list but with each element&#39;s index in the list added to itself. This means you add 0 to the number at index 0, add 1 to the number at index 1, etc..."
   ]
  },
  {
   "cell_type": "code",
   "execution_count": 4,
   "id": "48cd8d88",
   "metadata": {},
   "outputs": [
    {
     "data": {
      "text/plain": [
       "[1, 3, 5, 7, 9]"
      ]
     },
     "execution_count": 4,
     "metadata": {},
     "output_type": "execute_result"
    }
   ],
   "source": [
    "def add_indexes(lst):\n",
    "    for i in range(len(lst)):\n",
    "        lst[i]+=i\n",
    "    return lst\n",
    "add_indexes([1,2,3,4,5])"
   ]
  },
  {
   "cell_type": "markdown",
   "id": "c98d6a84",
   "metadata": {},
   "source": [
    "# Create a function that takes the height and radius of a cone as arguments and returns the volume of the cone rounded to the nearest hundredth. See the resources tab for the formula."
   ]
  },
  {
   "cell_type": "code",
   "execution_count": 13,
   "id": "4eaa969c",
   "metadata": {},
   "outputs": [
    {
     "name": "stdout",
     "output_type": "stream",
     "text": [
      "12.57\n"
     ]
    }
   ],
   "source": [
    "def cone_volume(h,r):\n",
    "    a=1/3*22/7\n",
    "    b=r**2*h\n",
    "    return a*b\n",
    "print(\"%.2f\" %cone_volume(3,2))"
   ]
  },
  {
   "cell_type": "markdown",
   "id": "b86fc11f",
   "metadata": {},
   "source": [
    "# This Triangular Number Sequence is generated from a pattern of dots that form a triangle. The first 5 numbers of the sequence, or dots, are: 1, 3, 6, 10, 15 This means that the first triangle has just one dot, the second one has three dots, the third one has 6 dots and so on. Write a function that gives the number of dots with its corresponding triangle number of the sequence."
   ]
  },
  {
   "cell_type": "code",
   "execution_count": 18,
   "id": "55eeadd4",
   "metadata": {},
   "outputs": [
    {
     "data": {
      "text/plain": [
       "23220"
      ]
     },
     "execution_count": 18,
     "metadata": {},
     "output_type": "execute_result"
    }
   ],
   "source": [
    "def triangle(num):\n",
    "    result=0\n",
    "    for i in range(num+1):\n",
    "        result+=i\n",
    "    return result\n",
    "triangle(215)"
   ]
  },
  {
   "cell_type": "markdown",
   "id": "ea2b065c",
   "metadata": {},
   "source": [
    "# Create a function that takes a list of numbers between 1 and 10 (excluding one number) and returns the missing number."
   ]
  },
  {
   "cell_type": "code",
   "execution_count": 24,
   "id": "776bc8a8",
   "metadata": {},
   "outputs": [
    {
     "data": {
      "text/plain": [
       "3.0"
      ]
     },
     "execution_count": 24,
     "metadata": {},
     "output_type": "execute_result"
    }
   ],
   "source": [
    "def missing_num(lst):\n",
    "    n=len(lst)+1\n",
    "    a=(n*(n+1))/2\n",
    "    b=sum(lst)\n",
    "    return a-b\n",
    "missing_num([1,2,4,5])"
   ]
  },
  {
   "cell_type": "code",
   "execution_count": null,
   "id": "618dbc43",
   "metadata": {},
   "outputs": [],
   "source": []
  }
 ],
 "metadata": {
  "kernelspec": {
   "display_name": "Python 3 (ipykernel)",
   "language": "python",
   "name": "python3"
  },
  "language_info": {
   "codemirror_mode": {
    "name": "ipython",
    "version": 3
   },
   "file_extension": ".py",
   "mimetype": "text/x-python",
   "name": "python",
   "nbconvert_exporter": "python",
   "pygments_lexer": "ipython3",
   "version": "3.9.12"
  }
 },
 "nbformat": 4,
 "nbformat_minor": 5
}
