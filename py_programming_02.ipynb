{
 "cells": [
  {
   "cell_type": "code",
   "execution_count": 2,
   "id": "94b1ba00",
   "metadata": {
    "scrolled": true
   },
   "outputs": [
    {
     "name": "stdout",
     "output_type": "stream",
     "text": [
      "enter the kilometer value 3.7\n",
      "3.70 kilometers is equal to 2.30 milies\n"
     ]
    }
   ],
   "source": [
    "# Program to convert kilometers to miles\n",
    "\n",
    "#taking input\n",
    "kilo=float(input(\"enter the kilometer value \"))\n",
    "\n",
    "#caluculating miles\n",
    "miles=kilo*0.621371\n",
    "print('%0.2f kilometers is equal to %0.2f milies' %(kilo,miles))\n"
   ]
  },
  {
   "cell_type": "code",
   "execution_count": 3,
   "id": "708173d5",
   "metadata": {},
   "outputs": [
    {
     "name": "stdout",
     "output_type": "stream",
     "text": [
      "enter the value of temperature in celsius32\n",
      "32.00 celsius is equal to 89.60 fehrenheit \n"
     ]
    }
   ],
   "source": [
    "# Program to convert celsius to fehrenheit\n",
    "\n",
    "#takin input for celsius\n",
    "cel=float(input(\"enter the value of temperature in celsius\"))\n",
    "\n",
    "#formula to calculate fehrenheit\n",
    "fehrenheit=cel*1.8+32\n",
    "print(\"%0.2f celsius is equal to %0.2f fehrenheit \" %(cel,fehrenheit))"
   ]
  },
  {
   "cell_type": "code",
   "execution_count": 4,
   "id": "5d20b0b6",
   "metadata": {},
   "outputs": [
    {
     "name": "stdout",
     "output_type": "stream",
     "text": [
      "enter the year in four digits2019\n",
      "enter the month number4\n",
      "     April 2019\n",
      "Mo Tu We Th Fr Sa Su\n",
      " 1  2  3  4  5  6  7\n",
      " 8  9 10 11 12 13 14\n",
      "15 16 17 18 19 20 21\n",
      "22 23 24 25 26 27 28\n",
      "29 30\n",
      "\n"
     ]
    }
   ],
   "source": [
    "# Program to display calander\n",
    "\n",
    "import calendar\n",
    "\n",
    "#taking input year and month\n",
    "year=int(input(\"enter the year in four digits\"))\n",
    "month = int(input(\"enter the month number\"))\n",
    "\n",
    "print(calendar.month(year,month))"
   ]
  },
  {
   "cell_type": "code",
   "execution_count": 7,
   "id": "fbe34296",
   "metadata": {},
   "outputs": [
    {
     "name": "stdout",
     "output_type": "stream",
     "text": [
      "enter value a: 8\n",
      "enter vales b: 16\n",
      "enter value c: 8\n",
      "Solution of quadratic equation are -1.0 and -1.0\n"
     ]
    }
   ],
   "source": [
    "# Program to solve a quadratic equation\n",
    "\n",
    "#importing math module\n",
    "import math\n",
    "\n",
    "#taking the input \n",
    "a=int(input(\"enter value a: \"))\n",
    "b=int(input(\"enter vales b: \"))\n",
    "c=int(input(\"enter value c: \"))\n",
    "\n",
    "#finding discriminant\n",
    "disc=math.sqrt(b*b-4*a*c)\n",
    "\n",
    "#solving roots\n",
    "root1= (-b-disc)/(2*a)\n",
    "root2= (-b+disc)/(2*a)\n",
    "\n",
    "print(\"Solution of quadratic equation are {0} and {1}\".format(root1,root2))\n",
    "\n"
   ]
  },
  {
   "cell_type": "code",
   "execution_count": 8,
   "id": "bdfebd43",
   "metadata": {},
   "outputs": [
    {
     "name": "stdout",
     "output_type": "stream",
     "text": [
      "After swaping \n",
      "a =  11\n",
      "b =  15\n"
     ]
    }
   ],
   "source": [
    "#Program to swap two variables without using temp variable\n",
    "\n",
    "a=15\n",
    "b=11\n",
    "\n",
    "a= a+b\n",
    "b=a-b\n",
    "a=a-b\n",
    "\n",
    "print(\"After swaping \")\n",
    "print(\"a = \",a)\n",
    "print(\"b = \",b)"
   ]
  },
  {
   "cell_type": "code",
   "execution_count": null,
   "id": "27527155",
   "metadata": {},
   "outputs": [],
   "source": []
  }
 ],
 "metadata": {
  "kernelspec": {
   "display_name": "Python 3 (ipykernel)",
   "language": "python",
   "name": "python3"
  },
  "language_info": {
   "codemirror_mode": {
    "name": "ipython",
    "version": 3
   },
   "file_extension": ".py",
   "mimetype": "text/x-python",
   "name": "python",
   "nbconvert_exporter": "python",
   "pygments_lexer": "ipython3",
   "version": "3.9.12"
  }
 },
 "nbformat": 4,
 "nbformat_minor": 5
}
