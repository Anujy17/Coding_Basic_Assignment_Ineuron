{
 "cells": [
  {
   "cell_type": "markdown",
   "id": "98c52247",
   "metadata": {},
   "source": [
    "# Programming Assignment 16"
   ]
  },
  {
   "cell_type": "markdown",
   "id": "94b9a349",
   "metadata": {},
   "source": [
    "# Question1. Write a function that stutters a word as if someone is struggling to read it. The first two letters are repeated twice with an ellipsis ... and space after each, and then the word is pronounced with a question mark ?.\n"
   ]
  },
  {
   "cell_type": "code",
   "execution_count": 3,
   "id": "e60c552b",
   "metadata": {},
   "outputs": [
    {
     "name": "stdout",
     "output_type": "stream",
     "text": [
      "in... in... incredible?\n"
     ]
    }
   ],
   "source": [
    "def stutter(string):\n",
    "    a=2*(string[0:2]+'... ')\n",
    "    b=a+string+'?'\n",
    "    print(b)\n",
    "stutter('incredible')"
   ]
  },
  {
   "cell_type": "markdown",
   "id": "c53d1c04",
   "metadata": {},
   "source": [
    "# Question 2.Create a function that takes an angle in radians and returns the corresponding angle in degrees rounded to one decimal place."
   ]
  },
  {
   "cell_type": "code",
   "execution_count": 8,
   "id": "0dd1e59a",
   "metadata": {},
   "outputs": [
    {
     "name": "stdout",
     "output_type": "stream",
     "text": [
      "radian value is 57.3\n"
     ]
    }
   ],
   "source": [
    "def radians_to_degrees(i):\n",
    "    pi=22/7\n",
    "    b=round(i*(180/pi),1)\n",
    "    print('radian value is',b)\n",
    "radians_to_degrees(1)"
   ]
  },
  {
   "cell_type": "markdown",
   "id": "ba76ecce",
   "metadata": {},
   "source": [
    "# Question 3. In this challenge, establish if a given integer num is a Curzon number. If 1 plus 2 elevated to num is exactly divisible by 1 plus 2 multiplied by num, then num is a Curzon number."
   ]
  },
  {
   "cell_type": "code",
   "execution_count": 13,
   "id": "1ee37ed9",
   "metadata": {},
   "outputs": [
    {
     "name": "stdout",
     "output_type": "stream",
     "text": [
      "true\n"
     ]
    }
   ],
   "source": [
    "def is_curzon(a):\n",
    "    b=2**a+1\n",
    "    c=2*a+1\n",
    "    if b%c==0:\n",
    "        print('true')\n",
    "    else:\n",
    "        print('false')\n",
    "is_curzon(5)"
   ]
  },
  {
   "cell_type": "markdown",
   "id": "eaafce58",
   "metadata": {},
   "source": [
    "# Question 4.Given the side length x find the area of a hexagon."
   ]
  },
  {
   "cell_type": "code",
   "execution_count": 23,
   "id": "00a75b88",
   "metadata": {},
   "outputs": [
    {
     "name": "stdout",
     "output_type": "stream",
     "text": [
      "2.6\n"
     ]
    }
   ],
   "source": [
    "import math\n",
    "def area_of_hexagon(a):\n",
    "    area=(3*math.sqrt(3)*a**a)/2\n",
    "    print(round(area,1))\n",
    "area_of_hexagon(1)"
   ]
  },
  {
   "cell_type": "markdown",
   "id": "5f1660e4",
   "metadata": {},
   "source": [
    "# Question 5. Create a function that returns a base-2 (binary) representation of a base-10 (decimal) string number. To convert is simple: ((2) means base-2 and (10) means base-10) 010101001(2) = 1 + 8 + 32 + 128."
   ]
  },
  {
   "cell_type": "code",
   "execution_count": 25,
   "id": "d63d024a",
   "metadata": {},
   "outputs": [
    {
     "name": "stdout",
     "output_type": "stream",
     "text": [
      "1010\n"
     ]
    }
   ],
   "source": [
    "def binary(a):\n",
    "    print(bin(a)[2:])\n",
    "binary(10)"
   ]
  },
  {
   "cell_type": "code",
   "execution_count": null,
   "id": "a1093c67",
   "metadata": {},
   "outputs": [],
   "source": []
  }
 ],
 "metadata": {
  "kernelspec": {
   "display_name": "Python 3 (ipykernel)",
   "language": "python",
   "name": "python3"
  },
  "language_info": {
   "codemirror_mode": {
    "name": "ipython",
    "version": 3
   },
   "file_extension": ".py",
   "mimetype": "text/x-python",
   "name": "python",
   "nbconvert_exporter": "python",
   "pygments_lexer": "ipython3",
   "version": "3.9.12"
  }
 },
 "nbformat": 4,
 "nbformat_minor": 5
}
