{
 "cells": [
  {
   "cell_type": "markdown",
   "id": "45a307e6",
   "metadata": {},
   "source": [
    "# Programming Assignment 15"
   ]
  },
  {
   "cell_type": "markdown",
   "id": "af1ea559",
   "metadata": {},
   "source": [
    "# Please write a program using generator to print the numbers which can be divisible by 5 and 7 between 0 and n in comma separated form while n is input by console."
   ]
  },
  {
   "cell_type": "code",
   "execution_count": 4,
   "id": "55d23102",
   "metadata": {},
   "outputs": [
    {
     "name": "stdout",
     "output_type": "stream",
     "text": [
      "0\n",
      "35\n",
      "70\n"
     ]
    }
   ],
   "source": [
    "def check(num):\n",
    "    for i in range(num):\n",
    "        if i%5==0 and i%7==0:\n",
    "            yield i\n",
    "\n",
    "for i in check(100):\n",
    "    print(i)"
   ]
  },
  {
   "cell_type": "markdown",
   "id": "3378f232",
   "metadata": {},
   "source": [
    "# Please write a program using generator to print the even numbers between 0 and n in comma separated form while n is input by console."
   ]
  },
  {
   "cell_type": "code",
   "execution_count": 3,
   "id": "6b1edc57",
   "metadata": {},
   "outputs": [
    {
     "name": "stdout",
     "output_type": "stream",
     "text": [
      "0\n",
      "2\n",
      "4\n",
      "6\n",
      "8\n"
     ]
    }
   ],
   "source": [
    "def even(num):\n",
    "    for i in range(num):\n",
    "        if i%2==0:\n",
    "            yield i\n",
    "            \n",
    "for i in even(10):\n",
    "    print(i)"
   ]
  },
  {
   "cell_type": "markdown",
   "id": "6c581717",
   "metadata": {},
   "source": [
    "# The Fibonacci Sequence is computed based on the following formula: f(n)=0 if n=0 f(n)=1 if n=1 f(n)=f(n-1)+f(n-2) if n&gt;1 Please write a program using list comprehension to print the Fibonacci Sequence in comma separated form with a given n input by console."
   ]
  },
  {
   "cell_type": "code",
   "execution_count": 37,
   "id": "551c8094",
   "metadata": {},
   "outputs": [
    {
     "name": "stdout",
     "output_type": "stream",
     "text": [
      "enter the number12\n",
      "[0, 1, 1, 2, 3, 5, 8, 13, 21, 34, 55, 89, 144, 233]\n"
     ]
    }
   ],
   "source": [
    "n=int(input(\"enter the number\"))\n",
    "mylist=[0,1]  \n",
    "[mylist.append(mylist[-2]+mylist[-1]) for n in range(n)]\n",
    "print(mylist)  \n",
    "  "
   ]
  },
  {
   "cell_type": "markdown",
   "id": "9254eb66",
   "metadata": {},
   "source": [
    "# Assuming that we have some email addresses in the &quot;username@companyname.com&quot; format, please write program to print the user name of a given email address. Both user names and company names are composed of letters only."
   ]
  },
  {
   "cell_type": "code",
   "execution_count": 5,
   "id": "4a86f048",
   "metadata": {},
   "outputs": [
    {
     "name": "stdout",
     "output_type": "stream",
     "text": [
      "john\n"
     ]
    }
   ],
   "source": [
    "def getUsername(string):\n",
    "    b=string.split(\"@\")\n",
    "    print(b[0])\n",
    "getUsername(\"john@gmail.com\")"
   ]
  },
  {
   "cell_type": "markdown",
   "id": "08480be6",
   "metadata": {},
   "source": [
    "# Define a class named Shape and its subclass Square. The Square class has an init function which takes a length as argument. Both classes have a area function which can print the area of the shape where Shape&#39;s area is 0 by default."
   ]
  },
  {
   "cell_type": "code",
   "execution_count": 20,
   "id": "137fd289",
   "metadata": {},
   "outputs": [
    {
     "data": {
      "text/plain": [
       "20"
      ]
     },
     "execution_count": 20,
     "metadata": {},
     "output_type": "execute_result"
    }
   ],
   "source": [
    "class Shape:\n",
    "    def __init__(self,*sides):\n",
    "        self.sides=sides\n",
    "    def Area(self,*sides):\n",
    "        return 0\n",
    "\n",
    "class Square(Shape):\n",
    "    def __init__(self,*sides):\n",
    "        super().__init__(*sides)\n",
    "    def Area(self,*sides):\n",
    "        area=1\n",
    "        for i in self.sides:\n",
    "            area*=i\n",
    "        return area\n",
    "    \n",
    "sq=Square(4,5)\n",
    "sq.Area()\n"
   ]
  },
  {
   "cell_type": "code",
   "execution_count": null,
   "id": "3e926202",
   "metadata": {},
   "outputs": [],
   "source": []
  },
  {
   "cell_type": "code",
   "execution_count": null,
   "id": "ea9e67e8",
   "metadata": {},
   "outputs": [],
   "source": []
  }
 ],
 "metadata": {
  "kernelspec": {
   "display_name": "Python 3 (ipykernel)",
   "language": "python",
   "name": "python3"
  },
  "language_info": {
   "codemirror_mode": {
    "name": "ipython",
    "version": 3
   },
   "file_extension": ".py",
   "mimetype": "text/x-python",
   "name": "python",
   "nbconvert_exporter": "python",
   "pygments_lexer": "ipython3",
   "version": "3.9.12"
  }
 },
 "nbformat": 4,
 "nbformat_minor": 5
}
