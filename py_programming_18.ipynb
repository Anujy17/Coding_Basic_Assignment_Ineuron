{
 "cells": [
  {
   "cell_type": "markdown",
   "id": "30067030",
   "metadata": {},
   "source": [
    "# Programming Assignment 18"
   ]
  },
  {
   "cell_type": "markdown",
   "id": "4fa4c8c1",
   "metadata": {},
   "source": [
    "# Question 1 Create a function that takes a list of non-negative integers and strings and return a new list without the strings.\n",
    "\n"
   ]
  },
  {
   "cell_type": "code",
   "execution_count": 4,
   "id": "aad1f96f",
   "metadata": {},
   "outputs": [
    {
     "name": "stdout",
     "output_type": "stream",
     "text": [
      "[1, 2]\n"
     ]
    }
   ],
   "source": [
    "def filter_list(lst):\n",
    "    result=[]\n",
    "    for i in lst:\n",
    "        if type(i)==int:\n",
    "            result.append(i)\n",
    "    return result\n",
    "print(filter_list([1,2,'a','b']))"
   ]
  },
  {
   "cell_type": "markdown",
   "id": "67ac8ece",
   "metadata": {},
   "source": [
    "# Question 2 The &quot;Reverser&quot; takes a string as input and returns that string in reverse order, with the opposite case.\n"
   ]
  },
  {
   "cell_type": "code",
   "execution_count": 3,
   "id": "c4e677fa",
   "metadata": {},
   "outputs": [
    {
     "name": "stdout",
     "output_type": "stream",
     "text": [
      "DLROw OLLEh\n"
     ]
    }
   ],
   "source": [
    "def reverse(string):\n",
    "    result=''\n",
    "    for i in string:\n",
    "        if i.isupper():\n",
    "            result=i.lower()+result\n",
    "        elif i.islower():\n",
    "            result=i.upper()+result\n",
    "        else:\n",
    "            result = i + result\n",
    "    return result\n",
    "print(reverse('Hello World'))"
   ]
  },
  {
   "cell_type": "markdown",
   "id": "83f8f439",
   "metadata": {},
   "source": [
    "# Question 3"
   ]
  },
  {
   "cell_type": "code",
   "execution_count": 4,
   "id": "e34d289d",
   "metadata": {},
   "outputs": [
    {
     "name": "stdout",
     "output_type": "stream",
     "text": [
      "first 1\n",
      "middle [2, 3, 4, 5]\n",
      "last 6\n"
     ]
    }
   ],
   "source": [
    "lst=[1,2,3,4,5,6]\n",
    "head,*middle,tail=lst\n",
    "print('first',head)\n",
    "print('middle',middle)\n",
    "print('last',tail)"
   ]
  },
  {
   "cell_type": "markdown",
   "id": "c72483a8",
   "metadata": {},
   "source": [
    "# Question 4 Write a function that calculates the factorial of a number recursively."
   ]
  },
  {
   "cell_type": "code",
   "execution_count": 7,
   "id": "15edcde0",
   "metadata": {},
   "outputs": [
    {
     "data": {
      "text/plain": [
       "120"
      ]
     },
     "execution_count": 7,
     "metadata": {},
     "output_type": "execute_result"
    }
   ],
   "source": [
    "def fact(n):\n",
    "    if n == 1:\n",
    "        return 1\n",
    "    else :\n",
    "        return n*fact(n-1)\n",
    "fact(5)"
   ]
  },
  {
   "cell_type": "markdown",
   "id": "0fc3ff56",
   "metadata": {},
   "source": [
    "# Question 5 Write a function that moves all elements of one type to the end of the list."
   ]
  },
  {
   "cell_type": "code",
   "execution_count": 9,
   "id": "1adb7da2",
   "metadata": {},
   "outputs": [
    {
     "data": {
      "text/plain": [
       "[3, 2, 4, 4, 1, 1]"
      ]
     },
     "execution_count": 9,
     "metadata": {},
     "output_type": "execute_result"
    }
   ],
   "source": [
    "def move_to_end(lst,pattern):\n",
    "    result=[]\n",
    "    for i in lst:\n",
    "        if i==pattern:\n",
    "            result.append(i)\n",
    "            lst.remove(i)\n",
    "    lst=lst+result\n",
    "    return lst\n",
    "move_to_end([1,3,2,4,4,1],1)"
   ]
  },
  {
   "cell_type": "code",
   "execution_count": null,
   "id": "ace85928",
   "metadata": {},
   "outputs": [],
   "source": []
  }
 ],
 "metadata": {
  "kernelspec": {
   "display_name": "Python 3 (ipykernel)",
   "language": "python",
   "name": "python3"
  },
  "language_info": {
   "codemirror_mode": {
    "name": "ipython",
    "version": 3
   },
   "file_extension": ".py",
   "mimetype": "text/x-python",
   "name": "python",
   "nbconvert_exporter": "python",
   "pygments_lexer": "ipython3",
   "version": "3.9.12"
  }
 },
 "nbformat": 4,
 "nbformat_minor": 5
}
