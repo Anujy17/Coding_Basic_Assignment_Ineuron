{
 "cells": [
  {
   "cell_type": "code",
   "execution_count": 7,
   "id": "dbae6482",
   "metadata": {},
   "outputs": [
    {
     "name": "stdout",
     "output_type": "stream",
     "text": [
      "enter the number:5\n",
      "factorial of 5 is 120\n"
     ]
    }
   ],
   "source": [
    "#program to find factorial of a number \n",
    "\n",
    "#taking input from the user \n",
    "num=int(input(\"enter the number:\"))\n",
    "\n",
    "#checking for the number is positive negative or zero\n",
    "if num<0:\n",
    "    print(\"{} is negative and do not have factorial\".format(num))\n",
    "elif num==0:\n",
    "    print(\"factorial of 0 is 1\")\n",
    "else:\n",
    "    result=1\n",
    "    for i in range(1,num+1):\n",
    "        result*=i\n",
    "    print(\"factorial of {0} is {1}\".format(num,result))\n"
   ]
  },
  {
   "cell_type": "code",
   "execution_count": 9,
   "id": "7f9657d6",
   "metadata": {},
   "outputs": [
    {
     "name": "stdout",
     "output_type": "stream",
     "text": [
      "enter the number:5\n",
      "5 x 1 is 5\n",
      "5 x 2 is 10\n",
      "5 x 3 is 15\n",
      "5 x 4 is 20\n",
      "5 x 5 is 25\n",
      "5 x 6 is 30\n",
      "5 x 7 is 35\n",
      "5 x 8 is 40\n",
      "5 x 9 is 45\n",
      "5 x 10 is 50\n"
     ]
    }
   ],
   "source": [
    "# program to display multiplication table\n",
    "\n",
    "# taking number from user \n",
    "num=int(input(\"enter the number:\"))\n",
    "\n",
    "#running the loop for multiplication table\n",
    "for i in range(1,11):\n",
    "    print(\"{0} x {1} is {2}\".format(num,i,num*i))"
   ]
  },
  {
   "cell_type": "code",
   "execution_count": 12,
   "id": "656f12f4",
   "metadata": {},
   "outputs": [
    {
     "name": "stdout",
     "output_type": "stream",
     "text": [
      "enter the number of terms7\n",
      "0\n",
      "1\n",
      "1\n",
      "2\n",
      "3\n",
      "5\n",
      "8\n"
     ]
    }
   ],
   "source": [
    "#program to print the fibonacci sequence\n",
    "\n",
    "#taking input from the user upto which fibonnaci sequence to show\n",
    "num=int(input(\"enter the number of terms\"))\n",
    "\n",
    "#taking initial values\n",
    "n1 , n2 = 0,1\n",
    "\n",
    "if num<0:\n",
    "    print(\"enter the positive number\")\n",
    "elif num==1:\n",
    "    print(\"Fibonacci series upto {} is :\".format(num))\n",
    "    print(n1)\n",
    "else:\n",
    "    for i in range(1,num+1):\n",
    "        print(n1)\n",
    "        nth=n1+n2\n",
    "        n1=n2\n",
    "        n2=nth\n",
    "        "
   ]
  },
  {
   "cell_type": "code",
   "execution_count": 33,
   "id": "1432c82d",
   "metadata": {},
   "outputs": [
    {
     "name": "stdout",
     "output_type": "stream",
     "text": [
      "enter the number1634\n",
      "1634 is a Armstrong number\n"
     ]
    }
   ],
   "source": [
    "#program to check armstrong number\n",
    "\n",
    "#taking input from the user \n",
    "num=int(input(\"enter the number\"))\n",
    "\n",
    "#getting length of number\n",
    "ord=len(str(num))\n",
    "\n",
    "result=0\n",
    "\n",
    "check=num\n",
    "while check!=0:\n",
    "    result+=(check%10)**ord\n",
    "    check = check//10\n",
    "if result==num:\n",
    "    print(\"{} is a Armstrong number\".format(num))\n",
    "else:\n",
    "    print(num,\" is not a Armstrong number\")"
   ]
  },
  {
   "cell_type": "code",
   "execution_count": 40,
   "id": "36f5af89",
   "metadata": {},
   "outputs": [
    {
     "name": "stdout",
     "output_type": "stream",
     "text": [
      "enter the starting of interval :200\n",
      "enter the end of interval :20000\n",
      "370\n",
      "371\n",
      "407\n",
      "1634\n",
      "8208\n",
      "9474\n"
     ]
    }
   ],
   "source": [
    "#program to check armstrong number in interval\n",
    "\n",
    "#taking input from the user\n",
    "num1=int(input(\"enter the starting of interval :\"))\n",
    "num=int(input(\"enter the end of interval :\"))\n",
    "\n",
    "for i in range(num1,num+1):\n",
    "   \n",
    "    # getting the length of number\n",
    "    ord=len(str(i))\n",
    "    \n",
    "    #taking initial value\n",
    "    result=0\n",
    "    \n",
    "    check=i\n",
    "    while check!=0:\n",
    "        result+=(check%10)**ord\n",
    "        check=check//10\n",
    "    \n",
    "    if result==i:\n",
    "        print(i)\n",
    "        "
   ]
  },
  {
   "cell_type": "code",
   "execution_count": 44,
   "id": "3a4b5be9",
   "metadata": {},
   "outputs": [
    {
     "name": "stdout",
     "output_type": "stream",
     "text": [
      "enter the number: 17\n",
      "The sum of all natural number till 17 is 153.0\n"
     ]
    }
   ],
   "source": [
    "#program to find the sum of natural number\n",
    "\n",
    "#taking input \n",
    "num=int(input(\"enter the number: \"))\n",
    "\n",
    "print(\"The sum of all natural number till\",num,\"is\",num*(num+1)/2)"
   ]
  },
  {
   "cell_type": "code",
   "execution_count": null,
   "id": "639be49b",
   "metadata": {},
   "outputs": [],
   "source": []
  }
 ],
 "metadata": {
  "kernelspec": {
   "display_name": "Python 3 (ipykernel)",
   "language": "python",
   "name": "python3"
  },
  "language_info": {
   "codemirror_mode": {
    "name": "ipython",
    "version": 3
   },
   "file_extension": ".py",
   "mimetype": "text/x-python",
   "name": "python",
   "nbconvert_exporter": "python",
   "pygments_lexer": "ipython3",
   "version": "3.9.12"
  }
 },
 "nbformat": 4,
 "nbformat_minor": 5
}
