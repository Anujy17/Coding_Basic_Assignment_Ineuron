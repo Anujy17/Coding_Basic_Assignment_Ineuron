{
 "cells": [
  {
   "cell_type": "markdown",
   "id": "9c6a1734",
   "metadata": {},
   "source": [
    "# Programming Assignment 19"
   ]
  },
  {
   "cell_type": "markdown",
   "id": "a9ad4e6f",
   "metadata": {},
   "source": [
    "# Create a function that takes a string and returns a string in which each character is repeated once."
   ]
  },
  {
   "cell_type": "code",
   "execution_count": 2,
   "id": "edfd44e2",
   "metadata": {},
   "outputs": [
    {
     "name": "stdout",
     "output_type": "stream",
     "text": [
      "enter the string: String\n",
      "modified string is SSttrriinngg\n"
     ]
    }
   ],
   "source": [
    "def double_char(string):\n",
    "    result =''\n",
    "    for i in string:\n",
    "        result=result+2*i\n",
    "    return result\n",
    "input_string=input('enter the string: ')\n",
    "print(\"modified string is {}\".format(double_char(input_string)))"
   ]
  },
  {
   "cell_type": "markdown",
   "id": "e02e3376",
   "metadata": {},
   "source": [
    "# Create a function that reverses a boolean value and returns the string &quot;boolean expected&quot; if another variable type is given."
   ]
  },
  {
   "cell_type": "code",
   "execution_count": 10,
   "id": "5a5a5c47",
   "metadata": {},
   "outputs": [
    {
     "data": {
      "text/plain": [
       "'boolean expected'"
      ]
     },
     "execution_count": 10,
     "metadata": {},
     "output_type": "execute_result"
    }
   ],
   "source": [
    "def reverse(inp):\n",
    "    if inp == True :\n",
    "        return False\n",
    "    elif inp == False:\n",
    "        return True\n",
    "    else :\n",
    "        return \"boolean expected\"\n",
    "reverse('hello')"
   ]
  },
  {
   "cell_type": "markdown",
   "id": "af6c518c",
   "metadata": {},
   "source": [
    "# Create a function that reverses a boolean value and returns the string &quot;boolean expected&quot; if another variable type is given."
   ]
  },
  {
   "cell_type": "code",
   "execution_count": 6,
   "id": "9280ad3c",
   "metadata": {},
   "outputs": [
    {
     "name": "stdout",
     "output_type": "stream",
     "text": [
      "enter the number of foldings: 4\n",
      "paper folder 4 times is 0.008mm\n"
     ]
    }
   ],
   "source": [
    "def layers(num):\n",
    "    return (0.5*2**num)/1000\n",
    "inp=int(input('enter the number of foldings: '))\n",
    "print('paper folder {} times is {}mm'.format(inp,layers(inp)))"
   ]
  },
  {
   "cell_type": "markdown",
   "id": "058e521e",
   "metadata": {},
   "source": [
    "# Create a function that takes a single string as argument and returns an ordered list containing the indices of all capital letters in the string."
   ]
  },
  {
   "cell_type": "code",
   "execution_count": 13,
   "id": "c179b193",
   "metadata": {},
   "outputs": [
    {
     "name": "stdout",
     "output_type": "stream",
     "text": [
      "enter the string: eQuINoX\n"
     ]
    },
    {
     "data": {
      "text/plain": [
       "[1, 3, 4, 6]"
      ]
     },
     "execution_count": 13,
     "metadata": {},
     "output_type": "execute_result"
    }
   ],
   "source": [
    "def index_of_caps(string):\n",
    "    result=[]\n",
    "    for i in range(len(string)):\n",
    "        if string[i].isupper():\n",
    "            result.append(i)\n",
    "    return result\n",
    "inp=input('enter the string: ')\n",
    "index_of_caps(inp)\n",
    "        "
   ]
  },
  {
   "cell_type": "markdown",
   "id": "fe8af971",
   "metadata": {},
   "source": [
    "# Using list comprehensions, create a function that finds all even numbers from 1 to the given number."
   ]
  },
  {
   "cell_type": "code",
   "execution_count": 17,
   "id": "56123033",
   "metadata": {},
   "outputs": [
    {
     "name": "stdout",
     "output_type": "stream",
     "text": [
      "enter the number: 8\n"
     ]
    },
    {
     "data": {
      "text/plain": [
       "[2, 4, 6, 8]"
      ]
     },
     "execution_count": 17,
     "metadata": {},
     "output_type": "execute_result"
    }
   ],
   "source": [
    "def find_even_nums(num):\n",
    "    return [i for i in range(1,num+1) if i %2==0]\n",
    "inp=int(input('enter the number: '))\n",
    "find_even_nums(inp)"
   ]
  },
  {
   "cell_type": "code",
   "execution_count": null,
   "id": "539b89e1",
   "metadata": {},
   "outputs": [],
   "source": []
  }
 ],
 "metadata": {
  "kernelspec": {
   "display_name": "Python 3 (ipykernel)",
   "language": "python",
   "name": "python3"
  },
  "language_info": {
   "codemirror_mode": {
    "name": "ipython",
    "version": 3
   },
   "file_extension": ".py",
   "mimetype": "text/x-python",
   "name": "python",
   "nbconvert_exporter": "python",
   "pygments_lexer": "ipython3",
   "version": "3.9.12"
  }
 },
 "nbformat": 4,
 "nbformat_minor": 5
}
