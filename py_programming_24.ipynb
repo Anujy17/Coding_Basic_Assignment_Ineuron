{
 "cells": [
  {
   "cell_type": "markdown",
   "id": "1139b574",
   "metadata": {},
   "source": [
    "# Programming Assignment 24"
   ]
  },
  {
   "cell_type": "markdown",
   "id": "d8344c1b",
   "metadata": {},
   "source": [
    "# Question1 Create a function that takes an integer and returns a list from 1 to the given number, where: 1. If the number can be divided evenly by 4, amplify it by 10 (i.e. return 10 times the number). 2. If the number cannot be divided evenly by 4, simply return the number."
   ]
  },
  {
   "cell_type": "code",
   "execution_count": 6,
   "id": "f7cb014c",
   "metadata": {},
   "outputs": [
    {
     "data": {
      "text/plain": [
       "[1, 2, 3, 40]"
      ]
     },
     "execution_count": 6,
     "metadata": {},
     "output_type": "execute_result"
    }
   ],
   "source": [
    "def amplify(input_num):\n",
    "    result_list=[]\n",
    "    for i in range(1,input_num+1):\n",
    "        if i%4==0:\n",
    "            result_list.append(i*10)\n",
    "        else:\n",
    "            result_list.append(i)\n",
    "    return result_list\n",
    "amplify(4)"
   ]
  },
  {
   "cell_type": "markdown",
   "id": "a2ce7c30",
   "metadata": {},
   "source": [
    "# Question2 Create a function that takes a list of numbers and return the number that&#39;s unique."
   ]
  },
  {
   "cell_type": "code",
   "execution_count": 9,
   "id": "b28567e1",
   "metadata": {},
   "outputs": [
    {
     "data": {
      "text/plain": [
       "31"
      ]
     },
     "execution_count": 9,
     "metadata": {},
     "output_type": "execute_result"
    }
   ],
   "source": [
    "def unique(num_list):\n",
    "    set_of_list=set(num_list)\n",
    "    for i in set_of_list:\n",
    "        if num_list.count(i)==1:\n",
    "            return i\n",
    "unique([1,1,1,31,1,1])"
   ]
  },
  {
   "cell_type": "markdown",
   "id": "ba53bb89",
   "metadata": {},
   "source": [
    "# Your task is to create a Circle constructor that creates a circle with a radius provided by an argument. The circles constructed must have two getters getArea() (PIr^2) and getPerimeter() (2PI*r) which give both respective areas and perimeter (circumference). For help with this class, I have provided you with a Rectangle constructor which you can use as a base example."
   ]
  },
  {
   "cell_type": "code",
   "execution_count": 14,
   "id": "4bbea62b",
   "metadata": {},
   "outputs": [
    {
     "data": {
      "text/plain": [
       "380.132711084365"
      ]
     },
     "execution_count": 14,
     "metadata": {},
     "output_type": "execute_result"
    }
   ],
   "source": [
    "from math import pi\n",
    "\n",
    "class Circle:\n",
    "    def __init__(self,radius):\n",
    "        self.radius=radius\n",
    "    def getArea(self):\n",
    "        return pi*self.radius**2\n",
    "    def getPerimeter(self):\n",
    "        return 2*pi*self.radius\n",
    "\n",
    "circy=Circle(11)\n",
    "circy.getArea()"
   ]
  },
  {
   "cell_type": "markdown",
   "id": "ae790bc4",
   "metadata": {},
   "source": [
    "# Create a function that takes a list of strings and return a list, sorted from shortest to longest."
   ]
  },
  {
   "cell_type": "code",
   "execution_count": 26,
   "id": "5173fc83",
   "metadata": {},
   "outputs": [
    {
     "data": {
      "text/plain": [
       "['Apple', 'Google', 'Microsoft']"
      ]
     },
     "execution_count": 26,
     "metadata": {},
     "output_type": "execute_result"
    }
   ],
   "source": [
    "def sort_by_length(string_list):\n",
    "    dict_of_list = {}\n",
    "    for i in string_list:\n",
    "        dict_of_list[len(i)]=i\n",
    "    dict_of_list=dict(sorted(dict_of_list.items(),key=lambda item:item[1]))\n",
    "    return list(dict_of_list.values())\n",
    "\n",
    "sort_by_length([\"Google\",\"Apple\",\"Microsoft\"])"
   ]
  },
  {
   "cell_type": "markdown",
   "id": "6ed34e77",
   "metadata": {},
   "source": [
    "# Create a function that validates whether three given integers form a Pythagorean triplet. The sum of the squares of the two smallest integers must equal the square of the largest number to be validated."
   ]
  },
  {
   "cell_type": "code",
   "execution_count": 30,
   "id": "aab27f79",
   "metadata": {},
   "outputs": [
    {
     "data": {
      "text/plain": [
       "True"
      ]
     },
     "execution_count": 30,
     "metadata": {},
     "output_type": "execute_result"
    }
   ],
   "source": [
    "def is_triplet(a,b,c):\n",
    "    if c**2==a**2+b**2:\n",
    "        return True\n",
    "    return False\n",
    "is_triplet(3,4,5)"
   ]
  },
  {
   "cell_type": "code",
   "execution_count": null,
   "id": "28079b0f",
   "metadata": {},
   "outputs": [],
   "source": []
  }
 ],
 "metadata": {
  "kernelspec": {
   "display_name": "Python 3 (ipykernel)",
   "language": "python",
   "name": "python3"
  },
  "language_info": {
   "codemirror_mode": {
    "name": "ipython",
    "version": 3
   },
   "file_extension": ".py",
   "mimetype": "text/x-python",
   "name": "python",
   "nbconvert_exporter": "python",
   "pygments_lexer": "ipython3",
   "version": "3.9.12"
  }
 },
 "nbformat": 4,
 "nbformat_minor": 5
}
