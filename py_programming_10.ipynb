{
 "cells": [
  {
   "cell_type": "code",
   "execution_count": 1,
   "id": "499c39f2",
   "metadata": {},
   "outputs": [
    {
     "name": "stdout",
     "output_type": "stream",
     "text": [
      "28\n"
     ]
    }
   ],
   "source": [
    "#python program to sum all the elements in the list\n",
    "\n",
    "a=[1,2,3,4,5,6,7]\n",
    "print(sum(a))"
   ]
  },
  {
   "cell_type": "code",
   "execution_count": 3,
   "id": "ebda27ae",
   "metadata": {},
   "outputs": [
    {
     "name": "stdout",
     "output_type": "stream",
     "text": [
      "5040\n"
     ]
    }
   ],
   "source": [
    "#python program to multiply all elements in the list\n",
    "\n",
    "a=[1,2,3,4,5,6,7]\n",
    "result =1\n",
    "for i in a:\n",
    "    result*=i\n",
    "print(result)"
   ]
  },
  {
   "cell_type": "code",
   "execution_count": 4,
   "id": "66477f7e",
   "metadata": {},
   "outputs": [
    {
     "name": "stdout",
     "output_type": "stream",
     "text": [
      "1\n"
     ]
    }
   ],
   "source": [
    "#python program to find the smallest element in the list\n",
    "\n",
    "a=[1,2,3,4,5,6,7]\n",
    "print(min(a))"
   ]
  },
  {
   "cell_type": "code",
   "execution_count": 5,
   "id": "ca89e22c",
   "metadata": {},
   "outputs": [
    {
     "name": "stdout",
     "output_type": "stream",
     "text": [
      "7\n"
     ]
    }
   ],
   "source": [
    "#python program to find the largest element in the list\n",
    "\n",
    "a=[1,2,3,4,5,6,7]\n",
    "print(max(a))"
   ]
  },
  {
   "cell_type": "code",
   "execution_count": 19,
   "id": "bf355037",
   "metadata": {},
   "outputs": [
    {
     "name": "stdout",
     "output_type": "stream",
     "text": [
      "second largest element is 65\n"
     ]
    }
   ],
   "source": [
    "#python program to find the second largest element in a list\n",
    "\n",
    "a=[1,65,34,45,54,664,44]\n",
    "s=0\n",
    "for i in range(2):\n",
    "    max=0\n",
    "    for i in a:\n",
    "        if i>max:\n",
    "            max=i\n",
    "    a.remove(max)\n",
    "    s=max\n",
    "print(\"second largest element is\",s)"
   ]
  },
  {
   "cell_type": "code",
   "execution_count": 7,
   "id": "e4d8e0f2",
   "metadata": {},
   "outputs": [
    {
     "name": "stdout",
     "output_type": "stream",
     "text": [
      "enter the number for n largest element2\n",
      "[38, 6]\n"
     ]
    }
   ],
   "source": [
    "#python program to print the n largest element in the list\n",
    "\n",
    "num=int(input(\"enter the number for n largest element\"))\n",
    "a=[1,2,5,6,38,3,6]\n",
    "a.sort(reverse=True)\n",
    "print(a[:num])\n"
   ]
  },
  {
   "cell_type": "code",
   "execution_count": 9,
   "id": "4f479afc",
   "metadata": {},
   "outputs": [
    {
     "name": "stdout",
     "output_type": "stream",
     "text": [
      "[2, 4, 6, 8]\n"
     ]
    }
   ],
   "source": [
    "#python program to print the even numbers in a list\n",
    "\n",
    "a=[1,2,3,4,5,6,7,8,9]\n",
    "b=list(filter(lambda x : x%2==0,a))\n",
    "print(b)"
   ]
  },
  {
   "cell_type": "code",
   "execution_count": 10,
   "id": "6fbd74ab",
   "metadata": {},
   "outputs": [
    {
     "name": "stdout",
     "output_type": "stream",
     "text": [
      "[1, 3, 5, 7, 9]\n"
     ]
    }
   ],
   "source": [
    "#python program to print the odd numbers in a list\n",
    "\n",
    "a=[1,2,3,4,5,6,7,8,9]\n",
    "b=list(filter(lambda x : x%2!=0,a))\n",
    "print(b)"
   ]
  },
  {
   "cell_type": "code",
   "execution_count": 21,
   "id": "ef3e6b98",
   "metadata": {},
   "outputs": [
    {
     "name": "stdout",
     "output_type": "stream",
     "text": [
      "[2, 5, 54, 43]\n"
     ]
    }
   ],
   "source": [
    "#python program to remove empty list from the list\n",
    "\n",
    "a=[2,5,[],54,[],43]\n",
    "b=list(filter(lambda x:x!=[],a))\n",
    "print(b)"
   ]
  },
  {
   "cell_type": "code",
   "execution_count": 13,
   "id": "0b32f990",
   "metadata": {},
   "outputs": [
    {
     "name": "stdout",
     "output_type": "stream",
     "text": [
      "[1, 2, 3, 4, 5]\n"
     ]
    }
   ],
   "source": [
    "#python program for cloning or copying a list\n",
    "\n",
    "list1=[1,2,3,4,5]\n",
    "\n",
    "list2=list1.copy()\n",
    "print(list2)"
   ]
  },
  {
   "cell_type": "code",
   "execution_count": 15,
   "id": "1776dc54",
   "metadata": {},
   "outputs": [
    {
     "name": "stdout",
     "output_type": "stream",
     "text": [
      "2\n"
     ]
    }
   ],
   "source": [
    "#python program to count occurences of an element in a list\n",
    "\n",
    "a=['a','b','c','d','a']\n",
    "print(a.count('a'))\n",
    "\n"
   ]
  },
  {
   "cell_type": "code",
   "execution_count": null,
   "id": "c79a3e79",
   "metadata": {},
   "outputs": [],
   "source": []
  }
 ],
 "metadata": {
  "kernelspec": {
   "display_name": "Python 3 (ipykernel)",
   "language": "python",
   "name": "python3"
  },
  "language_info": {
   "codemirror_mode": {
    "name": "ipython",
    "version": 3
   },
   "file_extension": ".py",
   "mimetype": "text/x-python",
   "name": "python",
   "nbconvert_exporter": "python",
   "pygments_lexer": "ipython3",
   "version": "3.9.12"
  }
 },
 "nbformat": 4,
 "nbformat_minor": 5
}
