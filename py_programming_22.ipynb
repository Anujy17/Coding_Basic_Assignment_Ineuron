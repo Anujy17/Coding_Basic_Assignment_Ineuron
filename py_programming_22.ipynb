{
 "cells": [
  {
   "cell_type": "markdown",
   "id": "c14ccf7f",
   "metadata": {},
   "source": [
    "# Programming Assignment 22"
   ]
  },
  {
   "cell_type": "markdown",
   "id": "5c32228d",
   "metadata": {},
   "source": [
    "# Create a function that takes three parameters where: 1)x is the start of the range (inclusive). 2) y is the end of the range (inclusive). 3) n is the divisor to be checked against. Return an ordered list with numbers in the range that are divisible by the third parameter n. Return an empty list if there are no numbers that are divisible by n."
   ]
  },
  {
   "cell_type": "code",
   "execution_count": 5,
   "id": "f673063c",
   "metadata": {},
   "outputs": [
    {
     "data": {
      "text/plain": [
       "[3, 6, 9]"
      ]
     },
     "execution_count": 5,
     "metadata": {},
     "output_type": "execute_result"
    }
   ],
   "source": [
    "def list_operation(x,y,n):\n",
    "    result=[]\n",
    "    for i in range(x,y+1):\n",
    "        if i%n==0:\n",
    "            result.append(i)\n",
    "    return result\n",
    "list_operation(1,10,3)"
   ]
  },
  {
   "cell_type": "markdown",
   "id": "1c426757",
   "metadata": {},
   "source": [
    "# Create a function that takes in two lists and returns True if the second list follows the first list by one element, and False otherwise. In other words, determine if the second list is the first list shifted to the right by 1."
   ]
  },
  {
   "cell_type": "code",
   "execution_count": 32,
   "id": "d1896b7d",
   "metadata": {},
   "outputs": [
    {
     "data": {
      "text/plain": [
       "True"
      ]
     },
     "execution_count": 32,
     "metadata": {},
     "output_type": "execute_result"
    }
   ],
   "source": [
    "def simon_says(lst1,lst2):\n",
    "    diff=len(set(lst1)-set(lst2))\n",
    "    if diff == 1:\n",
    "        return True\n",
    "    return False\n",
    "a=[1,2,3,4,5]\n",
    "b=[0,1,2,3,4]\n",
    "simon_says(a,b)"
   ]
  },
  {
   "cell_type": "markdown",
   "id": "e4035dbe",
   "metadata": {},
   "source": [
    "# A group of friends have decided to start a secret society. The name will be the first letter of each of their names, sorted in alphabetical order. Create a function that takes in a list of names and returns the name of the secret society."
   ]
  },
  {
   "cell_type": "code",
   "execution_count": 10,
   "id": "ba75ce08",
   "metadata": {},
   "outputs": [
    {
     "data": {
      "text/plain": [
       "'ARS'"
      ]
     },
     "execution_count": 10,
     "metadata": {},
     "output_type": "execute_result"
    }
   ],
   "source": [
    "def society_name(lst):\n",
    "    result=\"\"\n",
    "    for i in lst:\n",
    "        result+=i[0]\n",
    "    sorted(result)\n",
    "    return result.upper()\n",
    "society_name(['anuj','ritik','sachin'])"
   ]
  },
  {
   "cell_type": "markdown",
   "id": "57172c3a",
   "metadata": {},
   "source": [
    "# An isogram is a word that has no duplicate letters. Create a function that takes a string and returns either True or False depending on whether or not it&#39;s an &quot;isogram&quot;."
   ]
  },
  {
   "cell_type": "code",
   "execution_count": 14,
   "id": "2a7241ac",
   "metadata": {},
   "outputs": [
    {
     "data": {
      "text/plain": [
       "False"
      ]
     },
     "execution_count": 14,
     "metadata": {},
     "output_type": "execute_result"
    }
   ],
   "source": [
    "def is_isogram(string):\n",
    "    string=string.lower()\n",
    "    length=len(string)\n",
    "    new=len(set(string))\n",
    "    if length-new==0:\n",
    "        return True\n",
    "    return False\n",
    "is_isogram('PaSsword')"
   ]
  },
  {
   "cell_type": "markdown",
   "id": "41586050",
   "metadata": {},
   "source": [
    "# Create a function that takes a string and returns True or False, depending on whether the characters are in order or not."
   ]
  },
  {
   "cell_type": "code",
   "execution_count": 22,
   "id": "6c2a3077",
   "metadata": {},
   "outputs": [
    {
     "data": {
      "text/plain": [
       "True"
      ]
     },
     "execution_count": 22,
     "metadata": {},
     "output_type": "execute_result"
    }
   ],
   "source": [
    "def is_in_order(string):\n",
    "    if string==''.join(sorted(string)):\n",
    "        return True\n",
    "    return False\n",
    "is_in_order('abc')"
   ]
  },
  {
   "cell_type": "code",
   "execution_count": null,
   "id": "145c362b",
   "metadata": {},
   "outputs": [],
   "source": []
  }
 ],
 "metadata": {
  "kernelspec": {
   "display_name": "Python 3 (ipykernel)",
   "language": "python",
   "name": "python3"
  },
  "language_info": {
   "codemirror_mode": {
    "name": "ipython",
    "version": 3
   },
   "file_extension": ".py",
   "mimetype": "text/x-python",
   "name": "python",
   "nbconvert_exporter": "python",
   "pygments_lexer": "ipython3",
   "version": "3.9.12"
  }
 },
 "nbformat": 4,
 "nbformat_minor": 5
}
