{
 "cells": [
  {
   "cell_type": "markdown",
   "id": "7ef2f9fa",
   "metadata": {},
   "source": [
    "# Programming Assignment 13 "
   ]
  },
  {
   "cell_type": "markdown",
   "id": "6c296e45",
   "metadata": {},
   "source": [
    "# Write a program that calculates and prints the value according to the given formula: Q = Square root of [(2 * C * D)/H]"
   ]
  },
  {
   "cell_type": "code",
   "execution_count": 20,
   "id": "faf18b43",
   "metadata": {},
   "outputs": [
    {
     "name": "stdout",
     "output_type": "stream",
     "text": [
      "100,150,180\n",
      "18 22 24\n"
     ]
    }
   ],
   "source": [
    "import math\n",
    "C=50\n",
    "H=30\n",
    "D=list(map(int,input().split(',')))\n",
    "Q=[]\n",
    "for i in D:\n",
    "    A=math.sqrt((2*C*i)/H)\n",
    "    Q.append(int(A))\n",
    "print(*Q)"
   ]
  },
  {
   "cell_type": "markdown",
   "id": "d4267844",
   "metadata": {},
   "source": [
    "# Write a program which takes 2 digits, X,Y as input and generates a 2-dimensional array. The element value in the i-th row and j-th column of the array should be i*j."
   ]
  },
  {
   "cell_type": "code",
   "execution_count": 6,
   "id": "a011f216",
   "metadata": {},
   "outputs": [
    {
     "name": "stdout",
     "output_type": "stream",
     "text": [
      "enter the number of rows: 3\n",
      "enter the number of columns: 5\n",
      "[0, 0, 0, 0, 0] [0, 1, 2, 3, 4] [0, 2, 4, 6, 8]\n"
     ]
    }
   ],
   "source": [
    "row=int(input('enter the number of rows: '))\n",
    "column=int(input('enter the number of columns: '))\n",
    "\n",
    "matrix=[[i*j  for j in range(column)] for i in range(row)]\n",
    "print(*matrix)"
   ]
  },
  {
   "cell_type": "markdown",
   "id": "a6c1156b",
   "metadata": {},
   "source": [
    "# Write a program that accepts a comma separated sequence of words as input and prints the words in a comma-separated sequence after sorting them alphabetically.\n"
   ]
  },
  {
   "cell_type": "code",
   "execution_count": 11,
   "id": "ea84aaa4",
   "metadata": {},
   "outputs": [
    {
     "name": "stdout",
     "output_type": "stream",
     "text": [
      "enter the comma seperated words: without,hello,bag,world\n",
      "Sorted words are\n",
      "bag,hello,without,world\n"
     ]
    }
   ],
   "source": [
    "words=list(input(\"enter the comma seperated words: \").split(','))\n",
    "words.sort()\n",
    "print(\"Sorted words are\")\n",
    "print(','.join(words))\n"
   ]
  },
  {
   "cell_type": "markdown",
   "id": "c96d7d38",
   "metadata": {},
   "source": [
    "# Write a program that accepts a sequence of whitespace separated words as input and prints the words after removing all duplicate words and sorting them alphanumerically."
   ]
  },
  {
   "cell_type": "code",
   "execution_count": 15,
   "id": "b634a9c0",
   "metadata": {},
   "outputs": [
    {
     "name": "stdout",
     "output_type": "stream",
     "text": [
      "enter the words: hello world and practice makes perfect and hello world again\n",
      "updated words are:   \n",
      "again and hello makes perfect practice world\n"
     ]
    }
   ],
   "source": [
    "words=list(input('enter the words: ').split())\n",
    "newList=[]\n",
    "for i in range(len(words)):\n",
    "    if words[i] not in newList:\n",
    "        newList.append(words[i])\n",
    "newList.sort()\n",
    "print(\"updated words are:   \")\n",
    "print(' '.join(newList))"
   ]
  },
  {
   "cell_type": "markdown",
   "id": "3a268fc2",
   "metadata": {},
   "source": [
    "# Write a program that accepts a sentence and calculate the number of letters and digits."
   ]
  },
  {
   "cell_type": "code",
   "execution_count": 26,
   "id": "d62d0d86",
   "metadata": {},
   "outputs": [
    {
     "name": "stdout",
     "output_type": "stream",
     "text": [
      "enter the sentence: hello world! 123\n",
      "LETTERS  10\n",
      "DIGIT  3\n"
     ]
    }
   ],
   "source": [
    "import re\n",
    "digit=re.compile('[0-9]')\n",
    "alpha=re.compile('[A-z]')\n",
    "sentence= input(\"enter the sentence: \")\n",
    "print(\"LETTERS \",len(alpha.findall(sentence)))\n",
    "print(\"DIGIT \",len(digit.findall(sentence)))"
   ]
  },
  {
   "cell_type": "markdown",
   "id": "5bd251df",
   "metadata": {},
   "source": [
    "# A website requires the users to input username and password to register. Write a program to check the validity of password input by users.\n"
   ]
  },
  {
   "cell_type": "code",
   "execution_count": 48,
   "id": "7969d363",
   "metadata": {},
   "outputs": [
    {
     "name": "stdout",
     "output_type": "stream",
     "text": [
      "enter the passwords: ABd1234@1,a F1#,2w3E*,2We3345\n",
      "ABd1234@1\n"
     ]
    }
   ],
   "source": [
    "import re\n",
    "passwords=list(input('enter the passwords: ').split(','))\n",
    "\n",
    "for i in passwords:   \n",
    "    if len(i)>=6 and len(i)<=12:\n",
    "        if re.search('[a-z]',i) and re.search('[A-Z]',i) and re.search('[0-9]',i) and re.search('[$@#]',i):\n",
    "            print(i)"
   ]
  },
  {
   "cell_type": "code",
   "execution_count": null,
   "id": "22519773",
   "metadata": {},
   "outputs": [],
   "source": []
  }
 ],
 "metadata": {
  "kernelspec": {
   "display_name": "Python 3 (ipykernel)",
   "language": "python",
   "name": "python3"
  },
  "language_info": {
   "codemirror_mode": {
    "name": "ipython",
    "version": 3
   },
   "file_extension": ".py",
   "mimetype": "text/x-python",
   "name": "python",
   "nbconvert_exporter": "python",
   "pygments_lexer": "ipython3",
   "version": "3.9.12"
  }
 },
 "nbformat": 4,
 "nbformat_minor": 5
}
