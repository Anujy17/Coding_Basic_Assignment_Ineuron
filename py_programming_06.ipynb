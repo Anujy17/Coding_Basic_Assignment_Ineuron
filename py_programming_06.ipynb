{
 "cells": [
  {
   "cell_type": "code",
   "execution_count": 4,
   "id": "082bef2e",
   "metadata": {},
   "outputs": [
    {
     "name": "stdout",
     "output_type": "stream",
     "text": [
      "enter the number of terms7\n",
      "0\n",
      "1\n",
      "1\n",
      "2\n",
      "3\n",
      "5\n",
      "8\n"
     ]
    }
   ],
   "source": [
    "# program to print the fibonacci sequence using recursion\n",
    "\n",
    "def fib(n):\n",
    "    \n",
    "    # creating base case for fibonacci\n",
    "    if n<=1:\n",
    "        return n\n",
    "    else:\n",
    "        return fib(n-1)+fib(n-2)\n",
    "    \n",
    "#taking the input for the terms\n",
    "terms = int(input(\"enter the number of terms\"))\n",
    "if terms <=0:\n",
    "    print(\"enter positive numbers\")\n",
    "else:\n",
    "    for i in range(terms):\n",
    "        print(fib(i))\n",
    "    "
   ]
  },
  {
   "cell_type": "code",
   "execution_count": 2,
   "id": "535f30cb",
   "metadata": {},
   "outputs": [
    {
     "name": "stdout",
     "output_type": "stream",
     "text": [
      "enter the number 5\n",
      "factorial of 5 is 120\n"
     ]
    }
   ],
   "source": [
    "# program to print factorial using recursion\n",
    "\n",
    "def fact(n):\n",
    "    \n",
    "    #creating base case\n",
    "    if n==0:\n",
    "        return 1\n",
    "    else:\n",
    "        return n*fact(n-1)\n",
    "    \n",
    "#taking input \n",
    "num1=int(input(\"enter the number \"))\n",
    "if num1<0:\n",
    "    print(\"enter positive numbers \")\n",
    "else :\n",
    "    print(\"factorial of {} is {}\".format(num1,fact(num1)))\n"
   ]
  },
  {
   "cell_type": "code",
   "execution_count": 5,
   "id": "9ffdde50",
   "metadata": {},
   "outputs": [
    {
     "name": "stdout",
     "output_type": "stream",
     "text": [
      "enter your height in cm: 162\n",
      "enter your weight in kgs: 52\n",
      "Your Body Mass Index is 19.81\n",
      "your are healthy.\n"
     ]
    }
   ],
   "source": [
    "# program to calculate the bmi \n",
    "\n",
    "# taking height and weight input\n",
    "height=float(input(\"enter your height in cm: \"))\n",
    "weight = float(input(\"enter your weight in kgs: \"))\n",
    "\n",
    "#calculating bmi\n",
    "\n",
    "bmi=weight/(height/100)**2\n",
    "\n",
    "print(\"Your Body Mass Index is %0.2f\" %bmi)\n",
    "\n",
    "#print the result using if else\n",
    "\n",
    "if bmi<18.5:\n",
    "    print(\"your are underweight.\")\n",
    "elif bmi<24.9:\n",
    "    print(\"your are healthy.\")\n",
    "elif bmi<29.9:\n",
    "    print(\"your are overweight.\")\n",
    "else :\n",
    "    print(\"your are obese.\")"
   ]
  },
  {
   "cell_type": "code",
   "execution_count": 6,
   "id": "11365ec9",
   "metadata": {},
   "outputs": [
    {
     "name": "stdout",
     "output_type": "stream",
     "text": [
      "enter the number for calculating natural log100.34\n",
      "the natural logarithm of 100.34 is 4.608564419056107\n"
     ]
    }
   ],
   "source": [
    "# program to calculate the natural log of any number\n",
    "\n",
    "#importing the math module\n",
    "import math\n",
    "\n",
    "#taking the input for the log number\n",
    "num=float(input(\"enter the number for calculating natural log\"))\n",
    "\n",
    "print(\"the natural logarithm of {} is {}\".format(num,math.log(num)))"
   ]
  },
  {
   "cell_type": "code",
   "execution_count": 7,
   "id": "c9b563bc",
   "metadata": {},
   "outputs": [
    {
     "name": "stdout",
     "output_type": "stream",
     "text": [
      "enter the number upto which cube sum is to find out5\n",
      "the cube sum of 5 natural number is 225.0\n"
     ]
    }
   ],
   "source": [
    "# program to calculate the cube sum of first n natural numbers\n",
    "\n",
    "#taking input for the n natural numbers\n",
    "n=int(input(\"enter the number upto which cube sum is to find out\"))\n",
    "\n",
    "#calculating the sum\n",
    "sum=(n*(n+1)/2)**2\n",
    "\n",
    "print(\"the cube sum of {} natural number is {}\".format(n,sum))"
   ]
  },
  {
   "cell_type": "code",
   "execution_count": null,
   "id": "d39bf41c",
   "metadata": {},
   "outputs": [],
   "source": []
  }
 ],
 "metadata": {
  "kernelspec": {
   "display_name": "Python 3 (ipykernel)",
   "language": "python",
   "name": "python3"
  },
  "language_info": {
   "codemirror_mode": {
    "name": "ipython",
    "version": 3
   },
   "file_extension": ".py",
   "mimetype": "text/x-python",
   "name": "python",
   "nbconvert_exporter": "python",
   "pygments_lexer": "ipython3",
   "version": "3.9.12"
  }
 },
 "nbformat": 4,
 "nbformat_minor": 5
}
