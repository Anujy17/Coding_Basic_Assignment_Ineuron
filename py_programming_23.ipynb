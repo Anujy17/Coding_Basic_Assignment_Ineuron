{
 "cells": [
  {
   "cell_type": "markdown",
   "id": "67794966",
   "metadata": {},
   "source": [
    "# Programming Assignment 25"
   ]
  },
  {
   "cell_type": "markdown",
   "id": "22774a90",
   "metadata": {},
   "source": [
    "# Create a function that takes a number as an argument and returns True or False depending on whether the number is symmetrical or not. A number is symmetrical when it is the same as its reverse."
   ]
  },
  {
   "cell_type": "code",
   "execution_count": 3,
   "id": "c1234d84",
   "metadata": {},
   "outputs": [
    {
     "data": {
      "text/plain": [
       "False"
      ]
     },
     "execution_count": 3,
     "metadata": {},
     "output_type": "execute_result"
    }
   ],
   "source": [
    "def is_symmertical(num):\n",
    "    string = str(num)\n",
    "    if string==string[::-1]:\n",
    "        return True\n",
    "    return False\n",
    "is_symmertical(7237)"
   ]
  },
  {
   "cell_type": "markdown",
   "id": "0c519664",
   "metadata": {},
   "source": [
    "# Given a string of numbers separated by a comma and space, return the product of the numbers."
   ]
  },
  {
   "cell_type": "code",
   "execution_count": 10,
   "id": "0b6483c3",
   "metadata": {},
   "outputs": [
    {
     "data": {
      "text/plain": [
       "24"
      ]
     },
     "execution_count": 10,
     "metadata": {},
     "output_type": "execute_result"
    }
   ],
   "source": [
    "def multiply_nums(num_str):\n",
    "    num_list=num_str.split(\",\")\n",
    "    result=1\n",
    "    for i in num_list:\n",
    "        result*=int(i)\n",
    "    return result\n",
    "multiply_nums(\"1,2,3,4\")"
   ]
  },
  {
   "cell_type": "markdown",
   "id": "eaf34474",
   "metadata": {},
   "source": [
    "# Create a function that squares every digit of a number."
   ]
  },
  {
   "cell_type": "code",
   "execution_count": 18,
   "id": "0ccf8e6f",
   "metadata": {},
   "outputs": [
    {
     "data": {
      "text/plain": [
       "'811181'"
      ]
     },
     "execution_count": 18,
     "metadata": {},
     "output_type": "execute_result"
    }
   ],
   "source": [
    "def square_digits(num):\n",
    "    result=\"\"\n",
    "    current_num=num%10\n",
    "    while num!=0:\n",
    "        result+=str(current_num**2)\n",
    "        num=num//10\n",
    "        current_num=num%10\n",
    "    return result\n",
    "square_digits(9119)"
   ]
  },
  {
   "cell_type": "markdown",
   "id": "c2e04dfc",
   "metadata": {},
   "source": [
    "# Create a function that sorts a list and removes all duplicate items from it."
   ]
  },
  {
   "cell_type": "code",
   "execution_count": 21,
   "id": "cd9f0fa1",
   "metadata": {},
   "outputs": [
    {
     "name": "stdout",
     "output_type": "stream",
     "text": [
      "[1, 2, 3, 4]\n"
     ]
    }
   ],
   "source": [
    "def setify(input_list):\n",
    "    result=[]\n",
    "    for i in input_list:\n",
    "        if i not in result:\n",
    "            result.append(i)\n",
    "    result.sort()\n",
    "    print(result)\n",
    "setify([1,4,3,3,2,3])"
   ]
  },
  {
   "cell_type": "markdown",
   "id": "d81f18da",
   "metadata": {},
   "source": [
    "# Create a function that returns the mean of all digits."
   ]
  },
  {
   "cell_type": "code",
   "execution_count": 28,
   "id": "06076d95",
   "metadata": {},
   "outputs": [
    {
     "data": {
      "text/plain": [
       "6"
      ]
     },
     "execution_count": 28,
     "metadata": {},
     "output_type": "execute_result"
    }
   ],
   "source": [
    "def mean(input_num):\n",
    "    length=len(str(input_num))\n",
    "    cur_num=input_num%10\n",
    "    result=0\n",
    "    while input_num!=0:\n",
    "        result+=cur_num\n",
    "        input_num=input_num//10\n",
    "        cur_num=input_num%10\n",
    "    avg=result//length\n",
    "    return avg\n",
    "mean(666)"
   ]
  },
  {
   "cell_type": "code",
   "execution_count": null,
   "id": "c4e5bfe8",
   "metadata": {},
   "outputs": [],
   "source": []
  }
 ],
 "metadata": {
  "kernelspec": {
   "display_name": "Python 3 (ipykernel)",
   "language": "python",
   "name": "python3"
  },
  "language_info": {
   "codemirror_mode": {
    "name": "ipython",
    "version": 3
   },
   "file_extension": ".py",
   "mimetype": "text/x-python",
   "name": "python",
   "nbconvert_exporter": "python",
   "pygments_lexer": "ipython3",
   "version": "3.9.12"
  }
 },
 "nbformat": 4,
 "nbformat_minor": 5
}
