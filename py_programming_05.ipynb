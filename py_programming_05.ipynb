{
 "cells": [
  {
   "cell_type": "code",
   "execution_count": 3,
   "id": "0ea5c3b7",
   "metadata": {},
   "outputs": [
    {
     "name": "stdout",
     "output_type": "stream",
     "text": [
      "enter the first number15\n",
      "enter the second number20\n",
      "lcm of 15 and 20 is 60\n"
     ]
    }
   ],
   "source": [
    "# program to find the LCM in python\n",
    "\n",
    "#taking two numbers from the user\n",
    "num1=int(input(\"enter the first number \"))\n",
    "num2=int(input(\"enter the second number \"))\n",
    "\n",
    "#making the function to compute lcm\n",
    "def lcm(a,b):\n",
    "    \n",
    "    #checking for the bigger number\n",
    "    if a>b:\n",
    "        big=a\n",
    "    else:\n",
    "        big=b\n",
    "    \n",
    "    while True:\n",
    "        if big%a==0 and big%b==0:\n",
    "            lcm=big\n",
    "            break\n",
    "        big+=1\n",
    "    return lcm\n",
    "\n",
    "compute=lcm(num1,num2)\n",
    "print(\"lcm of {} and {} is {}\".format(num1,num2,compute))"
   ]
  },
  {
   "cell_type": "code",
   "execution_count": 9,
   "id": "9ecca673",
   "metadata": {},
   "outputs": [
    {
     "name": "stdout",
     "output_type": "stream",
     "text": [
      "enter the first number 20\n",
      "enter the second number 15\n",
      "HCF of 20 and 15 is 5\n"
     ]
    }
   ],
   "source": [
    "# program to find HCF\n",
    "\n",
    "#taking two number input from the user\n",
    "num1=int(input(\"enter the first number \"))\n",
    "num2=int(input(\"enter the second number \"))\n",
    "\n",
    "#making the function for computing HCF\n",
    "\n",
    "def HCF(a,b):\n",
    "    \n",
    "    #checking for the smaller number\n",
    "    if a<b:\n",
    "        small=a\n",
    "    else :\n",
    "        small=b\n",
    "    \n",
    "    #computing using for loop\n",
    "    for i in range(1,small+1):\n",
    "        if a%i==0 and b%i==0:\n",
    "            hcf=i\n",
    "    return hcf\n",
    "\n",
    "print(\"HCF of {} and {} is {}\".format(num1,num2,HCF(num1,num2)))\n",
    "        "
   ]
  },
  {
   "cell_type": "code",
   "execution_count": 11,
   "id": "e4311668",
   "metadata": {},
   "outputs": [
    {
     "name": "stdout",
     "output_type": "stream",
     "text": [
      "enter the decimal number434\n",
      "binary number for 434 is 0b110110010\n",
      "octal number for 434 is 0o662\n",
      "hexadecimal number for 434 is 0x1b2\n"
     ]
    }
   ],
   "source": [
    "#program to convert decimal to binary , octal and hexadecimal\n",
    "\n",
    "#taking a decimal number input from the user\n",
    "num=int(input(\"enter the decimal number\"))\n",
    "\n",
    "#Printing binary number\n",
    "print(\"binary number for {} is {}\".format(num,bin(num)))\n",
    "\n",
    "#printing octal number\n",
    "print(\"octal number for {} is {}\".format(num,oct(num)))\n",
    "\n",
    "#printing hexadecimal number \n",
    "print(\"hexadecimal number for {} is {}\".format(num,hex(num)))"
   ]
  },
  {
   "cell_type": "code",
   "execution_count": 14,
   "id": "b1a9cf5d",
   "metadata": {},
   "outputs": [
    {
     "name": "stdout",
     "output_type": "stream",
     "text": [
      "enter the characterA\n",
      "ASCII value for A is 65\n"
     ]
    }
   ],
   "source": [
    "#program ro find ASCII value of a character\n",
    "\n",
    "char = str(input(\"enter the character\"))\n",
    "print(\"ASCII value for {} is {}\".format(char,ord(char)))"
   ]
  },
  {
   "cell_type": "code",
   "execution_count": 17,
   "id": "29fb83b2",
   "metadata": {},
   "outputs": [
    {
     "name": "stdout",
     "output_type": "stream",
     "text": [
      "choose one of the following\n",
      "1 for additon\n",
      "2 for substration\n",
      "3 for multiplication\n",
      "4 for division\n",
      "enter your choice 4\n",
      "enter the first number 6\n",
      "enter the second number 3\n",
      "division of 6 and 3 is 2.0\n",
      "enter y to continue or n to stopn\n"
     ]
    }
   ],
   "source": [
    "# program to make simple calculator\n",
    "\n",
    "#giving option to the user\n",
    "print(\"choose one of the following\")\n",
    "print(\"1 for additon\")\n",
    "print(\"2 for substration\")\n",
    "print(\"3 for multiplication\")\n",
    "print(\"4 for division\")\n",
    "\n",
    "while True:\n",
    "    choice =input(\"enter your choice \")\n",
    "    \n",
    "    if choice in('1','2','3','4'):\n",
    "        #taking two numbers input \n",
    "        num1=int(input(\"enter the first number \"))\n",
    "        num2=int(input(\"enter the second number \"))\n",
    "        \n",
    "        if choice == '1':\n",
    "            print(\"addition of {} and {} is {}\".format(num1,num2,num1+num2))\n",
    "        elif choice == '2':\n",
    "            print(\"substraction of {} and {} is {}\".format(num1,num2,num1-num2))\n",
    "        elif choice == '3':\n",
    "            print(\"multiplication of {} and {} is {}\".format(num1,num2,num1*num2))\n",
    "        elif choice=='4':\n",
    "            print(\"division of {} and {} is {}\".format(num1,num2,num1/num2))\n",
    "        \n",
    "        #check for user want more calculation or not\n",
    "        chk=input(\"enter y to continue or n to stop\")\n",
    "        if chk=='n':\n",
    "            break \n",
    "    else :\n",
    "        print(\"invalid Input\")\n",
    "        \n",
    "    \n",
    "    \n",
    "    \n",
    "    \n",
    "    \n",
    "    \n",
    "    "
   ]
  },
  {
   "cell_type": "code",
   "execution_count": null,
   "id": "70c152d0",
   "metadata": {},
   "outputs": [],
   "source": []
  }
 ],
 "metadata": {
  "kernelspec": {
   "display_name": "Python 3 (ipykernel)",
   "language": "python",
   "name": "python3"
  },
  "language_info": {
   "codemirror_mode": {
    "name": "ipython",
    "version": 3
   },
   "file_extension": ".py",
   "mimetype": "text/x-python",
   "name": "python",
   "nbconvert_exporter": "python",
   "pygments_lexer": "ipython3",
   "version": "3.9.12"
  }
 },
 "nbformat": 4,
 "nbformat_minor": 5
}
