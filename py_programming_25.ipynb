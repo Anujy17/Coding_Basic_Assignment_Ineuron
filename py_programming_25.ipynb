{
 "cells": [
  {
   "cell_type": "markdown",
   "id": "21adbce7",
   "metadata": {},
   "source": [
    "#  Programming Assignment 25"
   ]
  },
  {
   "cell_type": "markdown",
   "id": "35b1969c",
   "metadata": {},
   "source": [
    "# Create a function that takes three integer arguments (a, b, c) and returns the amount of integers which are of equal value.\n"
   ]
  },
  {
   "cell_type": "code",
   "execution_count": 7,
   "id": "4c5b0fa6",
   "metadata": {},
   "outputs": [
    {
     "name": "stdout",
     "output_type": "stream",
     "text": [
      "1\n"
     ]
    }
   ],
   "source": [
    "def equal(a,b,c):\n",
    "    b1=set()\n",
    "    b1.add(a)\n",
    "    b1.add(b)\n",
    "    b1.add(c)\n",
    "    a=len(b1)\n",
    "    if a==1:\n",
    "        return 3\n",
    "    elif a==2:\n",
    "        return 2\n",
    "    elif a==3:\n",
    "        return 1\n",
    "print(equal(3,1,4))"
   ]
  },
  {
   "cell_type": "markdown",
   "id": "7bd84485",
   "metadata": {},
   "source": [
    "# Write a function that converts a dictionary into a list of keys-values tuples."
   ]
  },
  {
   "cell_type": "code",
   "execution_count": 22,
   "id": "2329dd2a",
   "metadata": {},
   "outputs": [
    {
     "data": {
      "text/plain": [
       "[('B', 2), ('C', 3), ('D', 1)]"
      ]
     },
     "execution_count": 22,
     "metadata": {},
     "output_type": "execute_result"
    }
   ],
   "source": [
    "def dict_to_list(dict1):\n",
    "    list_of_tuple=[(i,j) for i , j in dict_input.items() ]\n",
    "    lst=sorted(list_of_tuple,key=lambda item:item[0])\n",
    "    return lst\n",
    "\n",
    "\n",
    "dict_to_list({'D': 1, 'B': 2, 'C': 3})"
   ]
  },
  {
   "cell_type": "markdown",
   "id": "fc8da412",
   "metadata": {},
   "source": [
    "# Write a function that creates a dictionary with each (key, value) pair being the (lower case, upper case) versions of a letter, respectively."
   ]
  },
  {
   "cell_type": "code",
   "execution_count": 21,
   "id": "94c130ce",
   "metadata": {},
   "outputs": [
    {
     "data": {
      "text/plain": [
       "{'a': 'A', 'b': 'B'}"
      ]
     },
     "execution_count": 21,
     "metadata": {},
     "output_type": "execute_result"
    }
   ],
   "source": [
    "def mapping(lst):\n",
    "    result_dict={}\n",
    "    for i in lst:\n",
    "        result_dict[i]=i.upper()\n",
    "    return result_dict\n",
    "mapping([\"a\",\"b\"])"
   ]
  },
  {
   "cell_type": "markdown",
   "id": "22ac8993",
   "metadata": {},
   "source": [
    "# Write a function, that replaces all vowels in a string with a specified vowel."
   ]
  },
  {
   "cell_type": "code",
   "execution_count": 23,
   "id": "de9a6ff6",
   "metadata": {},
   "outputs": [
    {
     "data": {
      "text/plain": [
       "'upplus und bununus'"
      ]
     },
     "execution_count": 23,
     "metadata": {},
     "output_type": "execute_result"
    }
   ],
   "source": [
    "def vow_replace(inp_str,inp_char):\n",
    "    result_str=\"\"\n",
    "    vowels=\"aeiouAEIOU\"\n",
    "    for i in inp_str:\n",
    "        if i in vowels:\n",
    "            result_str+=inp_char\n",
    "        else:\n",
    "            result_str+=i\n",
    "    return result_str\n",
    "vow_replace(\"apples and bananas\",\"u\")"
   ]
  },
  {
   "cell_type": "markdown",
   "id": "cd456cb5",
   "metadata": {},
   "source": [
    "# Create a function that takes a string as input and capitalizes a letter if its ASCII code is even and returns its lower case version if its ASCII code is odd."
   ]
  },
  {
   "cell_type": "code",
   "execution_count": 26,
   "id": "8f1f1853",
   "metadata": {},
   "outputs": [
    {
     "data": {
      "text/plain": [
       "'To Be oR NoT To Be!'"
      ]
     },
     "execution_count": 26,
     "metadata": {},
     "output_type": "execute_result"
    }
   ],
   "source": [
    "def ascii_capitalize(inp_str):\n",
    "    result_str=\"\"\n",
    "    for i in inp_str:\n",
    "        if ord(i)%2==0:\n",
    "            result_str+=i.upper()\n",
    "        else:\n",
    "            result_str+=i\n",
    "    return result_str\n",
    "ascii_capitalize(\"to be or not to be!\")"
   ]
  },
  {
   "cell_type": "code",
   "execution_count": null,
   "id": "3fcfe001",
   "metadata": {},
   "outputs": [],
   "source": []
  }
 ],
 "metadata": {
  "kernelspec": {
   "display_name": "Python 3 (ipykernel)",
   "language": "python",
   "name": "python3"
  },
  "language_info": {
   "codemirror_mode": {
    "name": "ipython",
    "version": 3
   },
   "file_extension": ".py",
   "mimetype": "text/x-python",
   "name": "python",
   "nbconvert_exporter": "python",
   "pygments_lexer": "ipython3",
   "version": "3.9.12"
  }
 },
 "nbformat": 4,
 "nbformat_minor": 5
}
