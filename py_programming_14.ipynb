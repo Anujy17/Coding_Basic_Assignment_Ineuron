{
 "cells": [
  {
   "cell_type": "markdown",
   "id": "371fb091",
   "metadata": {},
   "source": [
    "# Programming Assignment 14"
   ]
  },
  {
   "cell_type": "markdown",
   "id": "eb25991c",
   "metadata": {},
   "source": [
    "# Define a class with a generator which can iterate the numbers, which are divisible by 7, between a given range 0 and n."
   ]
  },
  {
   "cell_type": "code",
   "execution_count": 5,
   "id": "8f8cbc7c",
   "metadata": {},
   "outputs": [
    {
     "name": "stdout",
     "output_type": "stream",
     "text": [
      "enter the range of numbers: 40\n",
      "0\n",
      "7\n",
      "14\n",
      "21\n",
      "28\n",
      "35\n"
     ]
    }
   ],
   "source": [
    "def check_num(n):\n",
    "    for i in range(n):\n",
    "        if i % 7==0:\n",
    "            yield i\n",
    "input_range=int(input(\"enter the range of numbers: \"))\n",
    "for i in check_num(input_range):\n",
    "    print(i)"
   ]
  },
  {
   "cell_type": "markdown",
   "id": "d9413a70",
   "metadata": {},
   "source": [
    "# Write a program to compute the frequency of the words from the input. The output should output after sorting the key alphanumerically."
   ]
  },
  {
   "cell_type": "code",
   "execution_count": 52,
   "id": "2b2690a8",
   "metadata": {},
   "outputs": [
    {
     "name": "stdout",
     "output_type": "stream",
     "text": [
      "2: 2\n",
      "3.: 1\n",
      "3?: 1\n",
      "New: 1\n",
      "Python: 5\n",
      "Read: 1\n",
      "and: 1\n",
      "between: 1\n",
      "choosing: 1\n",
      "or: 2\n",
      "to: 1\n"
     ]
    }
   ],
   "source": [
    "def freq(input_string):\n",
    "    list_of_words=input_string.split()\n",
    "    dict_count={}\n",
    "    for i in list_of_words:\n",
    "        if i not in dict_count:\n",
    "            dict_count[i]=1\n",
    "        else:\n",
    "            dict_count[i]+=1\n",
    "    lst=sorted(dict_count.items())\n",
    "    for i in lst:\n",
    "        print(i[0]+\":\",i[1])\n",
    "\n",
    "string=\"New to Python or choosing between Python 2 and Python 3? Read Python 2 or Python 3.\"\n",
    "freq(string)"
   ]
  },
  {
   "cell_type": "markdown",
   "id": "5d685553",
   "metadata": {},
   "source": [
    "# Define a class Person and its two child classes: Male and Female. All classes have a method &quot;getGender&quot; which can print &quot;Male&quot; for Male class and &quot;Female&quot; for Female class."
   ]
  },
  {
   "cell_type": "code",
   "execution_count": 14,
   "id": "87bea4d1",
   "metadata": {},
   "outputs": [
    {
     "name": "stdout",
     "output_type": "stream",
     "text": [
      "Male\n",
      "Female\n"
     ]
    }
   ],
   "source": [
    "class Person:\n",
    "    def __init__(self,gender):\n",
    "        self.gender=gender\n",
    "\n",
    "class Male(Person):\n",
    "    def __init__(self):\n",
    "        super().__init__(\"Male\")\n",
    "    def getGender(self):\n",
    "        return self.gender\n",
    "\n",
    "class Female(Person):\n",
    "    def __init__(self):\n",
    "        super().__init__(\"Female\")\n",
    "    def getGender(self):\n",
    "        return self.gender\n",
    "\n",
    "n=Male()\n",
    "m=Female()\n",
    "print(n.getGender())\n",
    "print(m.getGender())"
   ]
  },
  {
   "cell_type": "markdown",
   "id": "12a530c5",
   "metadata": {},
   "source": [
    "# Please write a program to generate all sentences where subject is in [&quot;I&quot;, &quot;You&quot;] and verb is in [&quot;Play&quot;, &quot;Love&quot;] and the object is in [&quot;Hockey&quot;,&quot;Football&quot;]."
   ]
  },
  {
   "cell_type": "code",
   "execution_count": 18,
   "id": "2dd72427",
   "metadata": {},
   "outputs": [
    {
     "name": "stdout",
     "output_type": "stream",
     "text": [
      "I Play Hockey\n",
      "You Love Football\n"
     ]
    }
   ],
   "source": [
    "def get_sent():\n",
    "    lst1=[\"I\",\"You\"]\n",
    "    lst2=[\"Play\",\"Love\"]\n",
    "    lst3=[\"Hockey\",\"Football\"]\n",
    "    for i in range(len(lst1)):\n",
    "        yield lst1[i] +\" \"+ lst2[i] +\" \"+lst3[i]\n",
    "for i in get_sent():\n",
    "    print(i)"
   ]
  },
  {
   "cell_type": "markdown",
   "id": "8a830baa",
   "metadata": {},
   "source": [
    "# Please write a program to compress and decompress the string &quot;hello world!hello world!hello world!hello world!&quot;."
   ]
  },
  {
   "cell_type": "code",
   "execution_count": 58,
   "id": "e34892d7",
   "metadata": {},
   "outputs": [
    {
     "name": "stdout",
     "output_type": "stream",
     "text": [
      "b'\\x1f\\x8b\\x08\\x00v@5c\\x02\\xff\\xcbH\\xcd\\xc9\\xc9W(\\xcf/\\xcaIQ\\xcc \\x82\\r\\x00\\xd3\\xe6\\xcf\\xae0\\x00\\x00\\x00'\n",
      "b'hello world!hello world!hello world!hello world!'\n"
     ]
    }
   ],
   "source": [
    "import gzip\n",
    "string=b'hello world!hello world!hello world!hello world!'\n",
    "\n",
    "s=gzip.compress(string)\n",
    "print(s)\n",
    "t=gzip.decompress(s)\n",
    "print(t)"
   ]
  },
  {
   "cell_type": "markdown",
   "id": "5bb43f1f",
   "metadata": {},
   "source": [
    "# Please write a binary search function which searches an item in a sorted list. The function should return the index of element to be searched in the list."
   ]
  },
  {
   "cell_type": "code",
   "execution_count": 39,
   "id": "c2b78abc",
   "metadata": {},
   "outputs": [
    {
     "name": "stdout",
     "output_type": "stream",
     "text": [
      "number 9 appears at the index of 6 in the given list\n"
     ]
    }
   ],
   "source": [
    "def binary_search(input_list,num):\n",
    "    \n",
    "    #assignnign low as first index and high as last index\n",
    "    # mid is middle between high and low\n",
    "    \n",
    "    low=0\n",
    "    high = len(input_list)\n",
    "    mid=(low+high)//2\n",
    "    \n",
    "    #checking weather mid is equal to num or not \n",
    "    while input_list[mid]!=num:\n",
    "       \n",
    "        \n",
    "        #if num is bigger than num then it appear in the right side of mid\n",
    "        # then assigning low as mid\n",
    "        \n",
    "        if num>input_list[mid]:\n",
    "            low=mid\n",
    "            mid=(low+high)//2\n",
    "            \n",
    "        #if mid is smaller than mid then it appear in the left side\n",
    "        \n",
    "        elif num<input_list[mid]:\n",
    "            high = mid\n",
    "            mid=(low+high)//2\n",
    "    \n",
    "    #returning the index\n",
    "    return mid\n",
    "\n",
    "\n",
    "lst=[2,3,4,6,7,8,9,11,15,26]\n",
    "num=9\n",
    "print(\"number {0} appears at the index of {1} in the given list\".format(num,binary_search(lst,num)))\n"
   ]
  },
  {
   "cell_type": "code",
   "execution_count": null,
   "id": "f136f822",
   "metadata": {},
   "outputs": [],
   "source": []
  },
  {
   "cell_type": "code",
   "execution_count": null,
   "id": "7464c14e",
   "metadata": {},
   "outputs": [],
   "source": []
  }
 ],
 "metadata": {
  "kernelspec": {
   "display_name": "Python 3 (ipykernel)",
   "language": "python",
   "name": "python3"
  },
  "language_info": {
   "codemirror_mode": {
    "name": "ipython",
    "version": 3
   },
   "file_extension": ".py",
   "mimetype": "text/x-python",
   "name": "python",
   "nbconvert_exporter": "python",
   "pygments_lexer": "ipython3",
   "version": "3.9.12"
  }
 },
 "nbformat": 4,
 "nbformat_minor": 5
}
