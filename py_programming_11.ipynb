{
 "cells": [
  {
   "cell_type": "code",
   "execution_count": 8,
   "id": "796ffbab",
   "metadata": {},
   "outputs": [
    {
     "name": "stdout",
     "output_type": "stream",
     "text": [
      "enter the string for check: this is the final thing \n",
      "enter the length for which we have to check: 4\n",
      "final\n",
      "thing\n"
     ]
    }
   ],
   "source": [
    "#program to find words which are greater than given length k\n",
    "\n",
    "import logging as lg\n",
    "\n",
    "lg.basicConfig(filename=\"first.log\",filemode=\"w\",level=lg.INFO,format=\"%(asctime)-%(levelname)-%(message)\")\n",
    "class test:\n",
    "    def __init__(self):\n",
    "        pass\n",
    "    def checkString(self,inputString,k):\n",
    "        \n",
    "        '''this function is going to check for the words in a string is greater\n",
    "        than a specified length or not'''\n",
    "        \n",
    "        splitString=inputString.split()\n",
    "        newWords=[]\n",
    "        for i in splitString:\n",
    "            if len(i)>k:\n",
    "                newWords.append(i)\n",
    "        \n",
    "        return newWords\n",
    "try:\n",
    "    inputString=input(\"enter the string for check: \")\n",
    "    k=int(input(\"enter the length for which we have to check: \"))\n",
    "    obj=test()\n",
    "    listOfWord=obj.checkString(inputString,k)\n",
    "    if len(listOfWord)==0:\n",
    "        print(\"no words is there\")\n",
    "    else:\n",
    "        for i in listOfWord:\n",
    "            print(i)\n",
    "except Exception as e:\n",
    "    lg.error(e.getmessage())\n",
    "    print(e)"
   ]
  },
  {
   "cell_type": "code",
   "execution_count": 10,
   "id": "92fd48aa",
   "metadata": {},
   "outputs": [
    {
     "name": "stdout",
     "output_type": "stream",
     "text": [
      "enter the string to check:this is the word to check\n",
      "enter the i-th number:4\n",
      "thisis the word to check\n"
     ]
    }
   ],
   "source": [
    "#program to remove i-th character from the string\n",
    "\n",
    "\n",
    "inputString=input(\"enter the string to check:\")\n",
    "k=int(input(\"enter the i-th number:\"))\n",
    "print(inputString[0:k]+inputString[k+1:])\n",
    "    "
   ]
  },
  {
   "cell_type": "code",
   "execution_count": 17,
   "id": "e4f67d22",
   "metadata": {},
   "outputs": [
    {
     "name": "stdout",
     "output_type": "stream",
     "text": [
      "enter the string:dfjdf fdjf\n",
      "split string is :\n",
      "['dfjdf', 'fdjf']\n",
      "joined string is :dfjdf fdjf\n"
     ]
    }
   ],
   "source": [
    "#program to split and join string in python\n",
    "\n",
    "inp=input(\"enter the string:\")\n",
    "b=inp.split(\" \")\n",
    "print(\"split string is :\")\n",
    "print(b)\n",
    "print(\"joined string is :\"+\" \".join(b) )"
   ]
  },
  {
   "cell_type": "code",
   "execution_count": 13,
   "id": "910a23fd",
   "metadata": {},
   "outputs": [
    {
     "name": "stdout",
     "output_type": "stream",
     "text": [
      "enter the string to checkanuj\n",
      "this is not binary string\n"
     ]
    }
   ],
   "source": [
    "# program to check binary string\n",
    "\n",
    "inputBin=input(\"enter the string to check:\")\n",
    "check={'0','1'}\n",
    "if check==set(inputBin) or set(inputBin)=={'0'} or set(inputBin)=={'1'}:\n",
    "    print(\"the given string is binary string\")\n",
    "else:\n",
    "    print(\"this is not binary string\")"
   ]
  },
  {
   "cell_type": "code",
   "execution_count": 19,
   "id": "37f18fad",
   "metadata": {},
   "outputs": [
    {
     "name": "stdout",
     "output_type": "stream",
     "text": [
      "enter the first stringthis is word 1\n",
      "enter the second stringthis is word2\n",
      "word\n",
      "1\n",
      "word2\n"
     ]
    }
   ],
   "source": [
    "#program to find uncommon words from two string\n",
    "\n",
    "str1=input(\"enter the first string:\")\n",
    "str2=input(\"enter the second string:\")\n",
    "lst1=str1.split()\n",
    "lst2=str2.split()\n",
    "for i in lst1:\n",
    "    if i not in lst2:\n",
    "        print(i)\n",
    "for j in lst2:\n",
    "    if j not in lst1:\n",
    "        print(j)"
   ]
  },
  {
   "cell_type": "code",
   "execution_count": 23,
   "id": "1d43f4c2",
   "metadata": {},
   "outputs": [
    {
     "name": "stdout",
     "output_type": "stream",
     "text": [
      "enter the input string:my name is name due to \n",
      "name\n"
     ]
    }
   ],
   "source": [
    "#program to find the duplicate character from string\n",
    "\n",
    "inp=input(\"enter the input string:\")\n",
    "b=inp.split(\" \")\n",
    "c=[]\n",
    "for i in b:\n",
    "    if b.count(i)>1:\n",
    "        if i not in c:\n",
    "            print(i)\n",
    "            c.append(i)\n",
    "            "
   ]
  },
  {
   "cell_type": "code",
   "execution_count": 26,
   "id": "6bda53c8",
   "metadata": {},
   "outputs": [
    {
     "name": "stdout",
     "output_type": "stream",
     "text": [
      "enter the string:this#% ffj\n",
      "it contains special character\n"
     ]
    }
   ],
   "source": [
    "#program to check if string contain any special character or not\n",
    "\n",
    "inp=input(\"enter the string:\")\n",
    "check='[@_!#$%^&*()<>?/\\|}{~:]'\n",
    "for i in inp:\n",
    "    if i in check:\n",
    "        print(\"it contains special character\")\n",
    "        break\n",
    "else:\n",
    "    print(\"this string does not contain special character\")"
   ]
  },
  {
   "cell_type": "code",
   "execution_count": null,
   "id": "1e93485b",
   "metadata": {},
   "outputs": [],
   "source": []
  }
 ],
 "metadata": {
  "kernelspec": {
   "display_name": "Python 3 (ipykernel)",
   "language": "python",
   "name": "python3"
  },
  "language_info": {
   "codemirror_mode": {
    "name": "ipython",
    "version": 3
   },
   "file_extension": ".py",
   "mimetype": "text/x-python",
   "name": "python",
   "nbconvert_exporter": "python",
   "pygments_lexer": "ipython3",
   "version": "3.9.12"
  }
 },
 "nbformat": 4,
 "nbformat_minor": 5
}
