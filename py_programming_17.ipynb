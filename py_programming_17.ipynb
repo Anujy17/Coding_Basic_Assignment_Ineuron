{
 "cells": [
  {
   "cell_type": "markdown",
   "id": "2881a58e",
   "metadata": {},
   "source": [
    "# Programming Assignment 17"
   ]
  },
  {
   "cell_type": "markdown",
   "id": "b63b6519",
   "metadata": {},
   "source": [
    "# Question1. Create a function that takes three arguments a, b, c and returns the sum of the numbers that are evenly divided by c from the range a, b inclusive."
   ]
  },
  {
   "cell_type": "code",
   "execution_count": 6,
   "id": "118b67f0",
   "metadata": {},
   "outputs": [
    {
     "name": "stdout",
     "output_type": "stream",
     "text": [
      "18\n"
     ]
    }
   ],
   "source": [
    "def evenly_divisible(a,b,c):\n",
    "    result=0\n",
    "    if c>b:\n",
    "        return 0\n",
    "    else:\n",
    "        for i in range(c,b+1,c):\n",
    "            result+=i\n",
    "        return result\n",
    "print(evenly_divisible(1,10,3))"
   ]
  },
  {
   "cell_type": "markdown",
   "id": "eb558ad6",
   "metadata": {},
   "source": [
    "# Question2. Create a function that returns True if a given inequality expression is correct and False otherwise.\n"
   ]
  },
  {
   "cell_type": "code",
   "execution_count": 23,
   "id": "9401222d",
   "metadata": {},
   "outputs": [
    {
     "name": "stdout",
     "output_type": "stream",
     "text": [
      "False\n"
     ]
    }
   ],
   "source": [
    "import re\n",
    "sea=re.compile('[<>]')\n",
    "def correct_signs(string):\n",
    "    n=len(sea.findall(string))\n",
    "    listOfString=string.split()\n",
    "    i=0\n",
    "    for j in range(n):\n",
    "        first=listOfString[i]\n",
    "        i=i+1\n",
    "        second=listOfString[i]\n",
    "        i=i+1\n",
    "        third=listOfString[i]\n",
    "        if second=='>':\n",
    "            if not int(first)>int(third):\n",
    "                return False\n",
    "        else:\n",
    "            if not int(first)<int(third):\n",
    "                return False\n",
    "    return True\n",
    "print(correct_signs('13 > 44 > 33 > 1'))\n",
    "        "
   ]
  },
  {
   "cell_type": "markdown",
   "id": "48ebec61",
   "metadata": {},
   "source": [
    "# Question3. Create a function that replaces all the vowels in a string with a specified character."
   ]
  },
  {
   "cell_type": "code",
   "execution_count": 9,
   "id": "ab016554",
   "metadata": {},
   "outputs": [
    {
     "data": {
      "text/plain": [
       "'th# ##rdv#rk'"
      ]
     },
     "execution_count": 9,
     "metadata": {},
     "output_type": "execute_result"
    }
   ],
   "source": [
    "def replace_vowels(string,pattern):\n",
    "    vowels='aeiouAEIOU'\n",
    "    result=''\n",
    "    for i in string:\n",
    "        if i in vowels:\n",
    "            result+=pattern\n",
    "        else:\n",
    "            result+=i\n",
    "    return result\n",
    "replace_vowels('the aardvark','#')"
   ]
  },
  {
   "cell_type": "markdown",
   "id": "18a2a7e6",
   "metadata": {},
   "source": [
    "# Question4. Write a function that calculates the factorial of a number recursively."
   ]
  },
  {
   "cell_type": "code",
   "execution_count": 10,
   "id": "706a06e4",
   "metadata": {},
   "outputs": [
    {
     "name": "stdout",
     "output_type": "stream",
     "text": [
      "120\n"
     ]
    }
   ],
   "source": [
    "def factorial(n):\n",
    "    if n==1:\n",
    "        return 1\n",
    "    else:\n",
    "        return n*factorial(n-1)\n",
    "print(factorial(5))"
   ]
  },
  {
   "cell_type": "markdown",
   "id": "ecc1fd32",
   "metadata": {},
   "source": [
    "# Q.5 Hamming distance is the number of characters that differ between two strings."
   ]
  },
  {
   "cell_type": "code",
   "execution_count": 14,
   "id": "d3ff01ad",
   "metadata": {},
   "outputs": [
    {
     "data": {
      "text/plain": [
       "5"
      ]
     },
     "execution_count": 14,
     "metadata": {},
     "output_type": "execute_result"
    }
   ],
   "source": [
    "def hamming_distance(string1,string2):\n",
    "    count=0\n",
    "    for i in range(len(string1)):\n",
    "        if string1[i]!=string2[i]:\n",
    "            count+=1\n",
    "    return count\n",
    "hamming_distance('abcde','bcdef')"
   ]
  },
  {
   "cell_type": "code",
   "execution_count": null,
   "id": "8b1201db",
   "metadata": {},
   "outputs": [],
   "source": []
  }
 ],
 "metadata": {
  "kernelspec": {
   "display_name": "Python 3 (ipykernel)",
   "language": "python",
   "name": "python3"
  },
  "language_info": {
   "codemirror_mode": {
    "name": "ipython",
    "version": 3
   },
   "file_extension": ".py",
   "mimetype": "text/x-python",
   "name": "python",
   "nbconvert_exporter": "python",
   "pygments_lexer": "ipython3",
   "version": "3.9.12"
  }
 },
 "nbformat": 4,
 "nbformat_minor": 5
}
