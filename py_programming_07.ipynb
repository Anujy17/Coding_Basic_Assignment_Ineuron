{
 "cells": [
  {
   "cell_type": "code",
   "execution_count": 1,
   "id": "cfbc23d5",
   "metadata": {},
   "outputs": [
    {
     "name": "stdout",
     "output_type": "stream",
     "text": [
      "the sum of the array is  29\n"
     ]
    }
   ],
   "source": [
    "#python program to find sum of an array\n",
    "\n",
    "def sum(arr):\n",
    "    \n",
    "    s=0\n",
    "    for i in arr:\n",
    "        s=s+i\n",
    "    return s\n",
    "\n",
    "arr=[1,2,5,3,5,7,6]\n",
    "\n",
    "print(\"the sum of the array is\",sum(arr))\n",
    "        "
   ]
  },
  {
   "cell_type": "code",
   "execution_count": 2,
   "id": "150cb539",
   "metadata": {},
   "outputs": [
    {
     "name": "stdout",
     "output_type": "stream",
     "text": [
      "the largest element in array is 13\n"
     ]
    }
   ],
   "source": [
    "# program to find the largest element in an array\n",
    "\n",
    "def max(arr):\n",
    "    m=0\n",
    "    for i in arr:\n",
    "        if m<i:\n",
    "            m=i\n",
    "    return m\n",
    "\n",
    "arr = [1,6,3,9,13,2]\n",
    "\n",
    "print(\"the largest element in array is\",max(arr))\n"
   ]
  },
  {
   "cell_type": "code",
   "execution_count": 8,
   "id": "f8199e7d",
   "metadata": {},
   "outputs": [
    {
     "name": "stdout",
     "output_type": "stream",
     "text": [
      "the reverse of array is [6, 3, 5, 2, 1]\n"
     ]
    }
   ],
   "source": [
    "# program to reverse an array\n",
    "\n",
    "def reverse(arr):\n",
    "    \n",
    "    #finding the length of array\n",
    "    length= len(arr)\n",
    "    \n",
    "    #taking end and start of array\n",
    "    end=length-1\n",
    "    start=0\n",
    "    \n",
    "    #iterating upto half of array\n",
    "    for i in range(length//2):\n",
    "        temp=arr[end]\n",
    "        arr[end]=arr[start]\n",
    "        arr[start]=temp\n",
    "        start+=1\n",
    "        end-=1\n",
    "    return arr\n",
    "\n",
    "arr=[1,2,5,3,6]\n",
    "print(\"the reverse of array is\",reverse(arr))"
   ]
  },
  {
   "cell_type": "code",
   "execution_count": 13,
   "id": "b8942d88",
   "metadata": {},
   "outputs": [
    {
     "name": "stdout",
     "output_type": "stream",
     "text": [
      "the resultant array is [4, 67, 1, 3, 6, 9]\n"
     ]
    }
   ],
   "source": [
    "# program to split array and add the first part to the end\n",
    "\n",
    "def split(arr,position):\n",
    "    small_array=arr[:position]\n",
    "    arr=arr[position:]+small_array\n",
    "    return arr\n",
    "\n",
    "arr=[1,3,6,9,4,67]\n",
    "position =4\n",
    "print(\"the resultant array is\",split(arr,position))"
   ]
  },
  {
   "cell_type": "code",
   "execution_count": 18,
   "id": "838382c9",
   "metadata": {},
   "outputs": [
    {
     "name": "stdout",
     "output_type": "stream",
     "text": [
      "the array is not monotomic\n"
     ]
    }
   ],
   "source": [
    "#program to check if given array is monotonic\n",
    "\n",
    "def monotomic(arr):\n",
    "    \n",
    "    #initializing variable\n",
    "    inc=True\n",
    "    dec=True\n",
    "    \n",
    "    #taking the length of the arr\n",
    "    length=len(arr)\n",
    "    \n",
    "    #check for decreament at any point\n",
    "    for i in range(length-1):\n",
    "        if arr[i]>arr[i+1]:\n",
    "            inc=False\n",
    "    \n",
    "    #check for increament at any point\n",
    "    for j in range(length-1):\n",
    "        if arr[j]<arr[j+1]:\n",
    "            dec=False\n",
    "    return inc or dec\n",
    "\n",
    "arr=[1,2,3,5,4]\n",
    "\n",
    "if monotomic(arr):\n",
    "    print(\"the array is monotomic\")\n",
    "else :\n",
    "    print(\"the array is not monotomic\")\n",
    "\n",
    "    "
   ]
  },
  {
   "cell_type": "code",
   "execution_count": null,
   "id": "49859f4d",
   "metadata": {},
   "outputs": [],
   "source": []
  }
 ],
 "metadata": {
  "kernelspec": {
   "display_name": "Python 3 (ipykernel)",
   "language": "python",
   "name": "python3"
  },
  "language_info": {
   "codemirror_mode": {
    "name": "ipython",
    "version": 3
   },
   "file_extension": ".py",
   "mimetype": "text/x-python",
   "name": "python",
   "nbconvert_exporter": "python",
   "pygments_lexer": "ipython3",
   "version": "3.9.12"
  }
 },
 "nbformat": 4,
 "nbformat_minor": 5
}
