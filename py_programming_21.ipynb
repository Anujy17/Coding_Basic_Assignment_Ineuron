{
 "cells": [
  {
   "cell_type": "markdown",
   "id": "48c49a3b",
   "metadata": {},
   "source": [
    "# Programming Assignment 21"
   ]
  },
  {
   "cell_type": "markdown",
   "id": "8ec4e1a7",
   "metadata": {},
   "source": [
    "# Write a function that takes a list and a number as arguments. Add the number to the end of the list, then remove the first element of the list. The function should then return the updated list."
   ]
  },
  {
   "cell_type": "code",
   "execution_count": 1,
   "id": "9cbc1895",
   "metadata": {},
   "outputs": [
    {
     "data": {
      "text/plain": [
       "[2, 3, 4, 5, 6]"
      ]
     },
     "execution_count": 1,
     "metadata": {},
     "output_type": "execute_result"
    }
   ],
   "source": [
    "def next_in_line(lst,num):\n",
    "    lst.pop(0)\n",
    "    lst.append(num)\n",
    "    return lst\n",
    "next_in_line([1,2,3,4,5],6)"
   ]
  },
  {
   "cell_type": "markdown",
   "id": "38803d4b",
   "metadata": {},
   "source": [
    "# Create the function that takes a list of dictionaries and returns the sum of people&#39;s budgets."
   ]
  },
  {
   "cell_type": "code",
   "execution_count": 4,
   "id": "82423933",
   "metadata": {},
   "outputs": [
    {
     "data": {
      "text/plain": [
       "65700"
      ]
     },
     "execution_count": 4,
     "metadata": {},
     "output_type": "execute_result"
    }
   ],
   "source": [
    "def get_budgets(lst):\n",
    "    result=0\n",
    "    for i in lst:\n",
    "        result+=i['budget']\n",
    "    return result\n",
    "get_budgets([{'name':'anuj','age':18,'budget':23000},{'name':'arun','age':19,'budget':40000},{'name':'amit','age':21,'budget':2700}])"
   ]
  },
  {
   "cell_type": "markdown",
   "id": "9078cb85",
   "metadata": {},
   "source": [
    "# Create a function that takes a string and returns a string with its letters in alphabetical order."
   ]
  },
  {
   "cell_type": "code",
   "execution_count": 11,
   "id": "cccb5e3c",
   "metadata": {},
   "outputs": [
    {
     "data": {
      "text/plain": [
       "'ehllo'"
      ]
     },
     "execution_count": 11,
     "metadata": {},
     "output_type": "execute_result"
    }
   ],
   "source": [
    "def alphabet_soup(string):\n",
    "    sorted(string)\n",
    "    return ''.join(sorted(string))\n",
    "alphabet_soup('hello')"
   ]
  },
  {
   "cell_type": "markdown",
   "id": "b5da143b",
   "metadata": {},
   "source": [
    "# Suppose that you invest 10,000 dollar for 10 years at an interest rate of 6% compounded monthly. What will be the value of your investment at the end of the 10 year period? Create a function that accepts the principal p, the term in years t, the interest rate r, and the number of compounding periods per year n. The function returns the value at the end of term rounded to the nearest cent."
   ]
  },
  {
   "cell_type": "code",
   "execution_count": 23,
   "id": "5cb43093",
   "metadata": {},
   "outputs": [
    {
     "name": "stdout",
     "output_type": "stream",
     "text": [
      "Compound interest is 57.349932563653056\n"
     ]
    }
   ],
   "source": [
    "def compound_interest(principle, rate, time,n):\n",
    "    Amount = principle * (pow((1 + rate / 100), time))\n",
    "    CI = Amount - principle\n",
    "    print(\"Compound interest is\", CI)\n",
    "\n",
    "compound_interest(10000,10,0.06,12)"
   ]
  },
  {
   "cell_type": "markdown",
   "id": "71ade163",
   "metadata": {},
   "source": [
    "# Write a function that takes a list of elements and returns only the integers."
   ]
  },
  {
   "cell_type": "code",
   "execution_count": 20,
   "id": "fed667e9",
   "metadata": {},
   "outputs": [
    {
     "data": {
      "text/plain": [
       "[1, 2, 3]"
      ]
     },
     "execution_count": 20,
     "metadata": {},
     "output_type": "execute_result"
    }
   ],
   "source": [
    "def return_only_integers(lst):\n",
    "    result=[]\n",
    "    for i in lst:\n",
    "        if type(i)==int:\n",
    "            result.append(i)\n",
    "    return result\n",
    "return_only_integers([1,2,3,'a','b','c'])"
   ]
  },
  {
   "cell_type": "code",
   "execution_count": null,
   "id": "c3019d6b",
   "metadata": {},
   "outputs": [],
   "source": []
  }
 ],
 "metadata": {
  "kernelspec": {
   "display_name": "Python 3 (ipykernel)",
   "language": "python",
   "name": "python3"
  },
  "language_info": {
   "codemirror_mode": {
    "name": "ipython",
    "version": 3
   },
   "file_extension": ".py",
   "mimetype": "text/x-python",
   "name": "python",
   "nbconvert_exporter": "python",
   "pygments_lexer": "ipython3",
   "version": "3.9.12"
  }
 },
 "nbformat": 4,
 "nbformat_minor": 5
}
