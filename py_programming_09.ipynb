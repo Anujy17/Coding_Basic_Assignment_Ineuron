{
 "cells": [
  {
   "cell_type": "code",
   "execution_count": 7,
   "id": "0ca98e0e",
   "metadata": {},
   "outputs": [
    {
     "name": "stdout",
     "output_type": "stream",
     "text": [
      "enter the number to check for disarium: 89\n",
      "89 is a disarium number\n"
     ]
    }
   ],
   "source": [
    "#program to check for disarium number in python\n",
    "\n",
    "#taking number input\n",
    "num=int(input(\"enter the number to check for disarium: \"))\n",
    "\n",
    "#initializing variables\n",
    "new=num\n",
    "power=len(str(num))\n",
    "add=0\n",
    "for i in range(power):\n",
    "    add+=((new%10)**power)\n",
    "    power-=1\n",
    "    new=new//10\n",
    "if add==num:\n",
    "    print(\"{} is a disarium number\".format(num))\n",
    "else:\n",
    "    print(\"{} is not a disarium number\".format(num))"
   ]
  },
  {
   "cell_type": "code",
   "execution_count": 8,
   "id": "e41dbb11",
   "metadata": {},
   "outputs": [
    {
     "name": "stdout",
     "output_type": "stream",
     "text": [
      "0\n",
      "1\n",
      "2\n",
      "3\n",
      "4\n",
      "5\n",
      "6\n",
      "7\n",
      "8\n",
      "9\n",
      "89\n"
     ]
    }
   ],
   "source": [
    "#program to print the disarium number in between 1 and 100\n",
    "\n",
    "#initializing variables\n",
    "for num in range(100):\n",
    "    new = num\n",
    "    power=len(str(num))\n",
    "    add=0\n",
    "    for j in range(power):\n",
    "        add+=((new%10)**power)\n",
    "        power-=1\n",
    "        new=new//10\n",
    "    if add==num:\n",
    "        print(num)"
   ]
  },
  {
   "cell_type": "code",
   "execution_count": 9,
   "id": "a1e3fd90",
   "metadata": {},
   "outputs": [
    {
     "name": "stdout",
     "output_type": "stream",
     "text": [
      "enter the number for happy number check: 13\n",
      "13 is happy number\n"
     ]
    }
   ],
   "source": [
    "#program to check for the happy number\n",
    "\n",
    "def checkHappy(num):\n",
    "    a=set()\n",
    "    b=num\n",
    "    while True:\n",
    "        s=0\n",
    "        for i in range(len(str(b))):\n",
    "            s=s+(b%10)**2\n",
    "            b=b//10\n",
    "        if s in a:\n",
    "            return False\n",
    "        elif s==1:\n",
    "            return True\n",
    "        else:\n",
    "            a.add(s)\n",
    "            b=s\n",
    "        \n",
    "a=int(input(\"enter the number for happy number check: \"))\n",
    "if checkHappy(a):\n",
    "    print('{} is happy number'.format(a))\n",
    "else :\n",
    "    print(\"{} is not happy number\".format(a))\n",
    "    "
   ]
  },
  {
   "cell_type": "code",
   "execution_count": 8,
   "id": "1c8abaac",
   "metadata": {},
   "outputs": [
    {
     "name": "stdout",
     "output_type": "stream",
     "text": [
      "1\n",
      "7\n",
      "10\n",
      "13\n",
      "19\n",
      "23\n",
      "28\n",
      "31\n",
      "32\n",
      "44\n",
      "49\n",
      "68\n",
      "70\n",
      "79\n",
      "82\n",
      "86\n",
      "91\n",
      "94\n",
      "97\n"
     ]
    }
   ],
   "source": [
    "#program to check happy number between 1 and 100\n",
    "\n",
    "def checkHappy(num):\n",
    "    a=set()\n",
    "    b=num\n",
    "    while True:\n",
    "        s=0\n",
    "        for i in range(len(str(b))):\n",
    "            s=s+(b%10)**2\n",
    "            b=b//10\n",
    "        if s in a:\n",
    "            return False\n",
    "        elif s==1:\n",
    "            return True\n",
    "        else:\n",
    "            a.add(s)\n",
    "            b=s\n",
    "for i in range(100):\n",
    "    if checkHappy(i):\n",
    "        print(i)\n",
    "        "
   ]
  },
  {
   "cell_type": "code",
   "execution_count": 14,
   "id": "af7b308a",
   "metadata": {},
   "outputs": [
    {
     "name": "stdout",
     "output_type": "stream",
     "text": [
      "enter the number to check for the harshad number: 18\n",
      "18 is a harshad number\n"
     ]
    }
   ],
   "source": [
    "# program to check harshad number\n",
    "\n",
    "def checkHarshad(num):\n",
    "    i=num\n",
    "    s=0\n",
    "    while i!=0:\n",
    "        s=s+i%10\n",
    "        i=i//10\n",
    "    return num%s==0\n",
    "\n",
    "a=int(input(\"enter the number to check for the harshad number: \"))\n",
    "if checkHarshad(a):\n",
    "    print(\"{} is a harshad number\".format(a))\n",
    "else:\n",
    "    print(\"{} is not a harshad number\".format(a))\n",
    "        \n",
    "        "
   ]
  },
  {
   "cell_type": "code",
   "execution_count": 18,
   "id": "20ff6e39",
   "metadata": {},
   "outputs": [
    {
     "name": "stdout",
     "output_type": "stream",
     "text": [
      "1\n",
      "2\n",
      "3\n",
      "4\n",
      "5\n",
      "6\n",
      "7\n",
      "8\n",
      "9\n",
      "10\n",
      "12\n",
      "18\n",
      "20\n",
      "21\n",
      "24\n",
      "27\n",
      "30\n",
      "36\n",
      "40\n",
      "42\n",
      "45\n",
      "48\n",
      "50\n",
      "54\n",
      "60\n",
      "63\n",
      "70\n",
      "72\n",
      "80\n",
      "81\n",
      "84\n",
      "90\n"
     ]
    }
   ],
   "source": [
    "#program to print the harshad number between 1 and 100\n",
    "\n",
    "def checkHarshad(num):\n",
    "    i=num\n",
    "    s=0\n",
    "    while i!=0:\n",
    "        s=s+i%10\n",
    "        i=i//10\n",
    "    return num%s==0\n",
    "\n",
    "for i in range(1,100):\n",
    "    if checkHarshad(i):\n",
    "        print(i)"
   ]
  },
  {
   "cell_type": "code",
   "execution_count": null,
   "id": "3b15abd4",
   "metadata": {},
   "outputs": [],
   "source": []
  }
 ],
 "metadata": {
  "kernelspec": {
   "display_name": "Python 3 (ipykernel)",
   "language": "python",
   "name": "python3"
  },
  "language_info": {
   "codemirror_mode": {
    "name": "ipython",
    "version": 3
   },
   "file_extension": ".py",
   "mimetype": "text/x-python",
   "name": "python",
   "nbconvert_exporter": "python",
   "pygments_lexer": "ipython3",
   "version": "3.9.12"
  }
 },
 "nbformat": 4,
 "nbformat_minor": 5
}
