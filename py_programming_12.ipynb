{
 "cells": [
  {
   "cell_type": "code",
   "execution_count": 14,
   "id": "dae4dc53",
   "metadata": {},
   "outputs": [
    {
     "name": "stdout",
     "output_type": "stream",
     "text": [
      "2\n",
      "4\n",
      "25\n",
      "9\n"
     ]
    }
   ],
   "source": [
    "#python program to extract unique values dictionary values\n",
    "\n",
    "d={1:2,2:4,5:25,3:9,4:9,5:25}\n",
    "a=[]\n",
    "for i in d.values():\n",
    "    if i not in a:\n",
    "        a.append(i)\n",
    "        print(i)\n",
    "        "
   ]
  },
  {
   "cell_type": "code",
   "execution_count": 20,
   "id": "e8db3843",
   "metadata": {},
   "outputs": [
    {
     "name": "stdout",
     "output_type": "stream",
     "text": [
      "The sum of all items in dictionary is 2000\n"
     ]
    }
   ],
   "source": [
    "# python program to find the sum of items in an dictionary\n",
    "\n",
    "dic={'anuj':200,'aman':500,'roshan':600,'ritik':700}\n",
    "result=0\n",
    "for i in dic.values():\n",
    "    result+=i\n",
    "print(\"The sum of all items in dictionary is\",result)"
   ]
  },
  {
   "cell_type": "code",
   "execution_count": 22,
   "id": "79a610f4",
   "metadata": {},
   "outputs": [
    {
     "name": "stdout",
     "output_type": "stream",
     "text": [
      "{1: 2, 2: 4, 5: 25, 3: 9, 4: 9, 'anuj': 200, 'aman': 500, 'roshan': 600, 'ritik': 700}\n"
     ]
    }
   ],
   "source": [
    "#python program to merge two dictionary\n",
    "\n",
    "dict1={1:2,2:4,5:25,3:9,4:9,5:25}\n",
    "dict2={'anuj':200,'aman':500,'roshan':600,'ritik':700}\n",
    "for i in dict2.keys():\n",
    "    dict1[i]=dict2[i]\n",
    "print(dict1)"
   ]
  },
  {
   "cell_type": "code",
   "execution_count": 25,
   "id": "e06608c1",
   "metadata": {},
   "outputs": [
    {
     "name": "stdout",
     "output_type": "stream",
     "text": [
      "{'anuj': 83, 'aman': 78, 'ritik': 86}\n"
     ]
    }
   ],
   "source": [
    "#python program to convert key value list to flat dictionary\n",
    "\n",
    "dict1={'name':['anuj','aman','ritik'],'marks':[83,78,86]}\n",
    "dict2=dict(zip(dict1['name'],dict1['marks']))\n",
    "print(dict2)"
   ]
  },
  {
   "cell_type": "code",
   "execution_count": 4,
   "id": "90d6fa5f",
   "metadata": {},
   "outputs": [
    {
     "name": "stdout",
     "output_type": "stream",
     "text": [
      "OrderedDict([('sudhanshu', '67'), ('anuj', '23'), ('aman', '45'), ('ritik', '65')])\n"
     ]
    }
   ],
   "source": [
    "#python program to insert at the beginning in orderedDict()\n",
    "\n",
    "from collections import OrderedDict\n",
    " \n",
    "# initialising ordered_dict\n",
    "dict1 = OrderedDict([('anuj', '23'), ('aman', '45'),('ritik','65')])\n",
    " \n",
    "# inserting items in starting of dict\n",
    "dict1.update({'sudhanshu':'67'})\n",
    "dict1.move_to_end('sudhanshu', last = False)\n",
    "print(dict1)"
   ]
  },
  {
   "cell_type": "code",
   "execution_count": 19,
   "id": "b4f53d97",
   "metadata": {},
   "outputs": [
    {
     "name": "stdout",
     "output_type": "stream",
     "text": [
      "The order of pattern is correct\n"
     ]
    }
   ],
   "source": [
    "# python program to check order of character in string using OrderDict\n",
    "from collections import OrderedDict\n",
    "def check_order(my_input, my_pattern):\n",
    "   my_dict = OrderedDict.fromkeys(my_input)\n",
    "   pattern_length = 0\n",
    "   for key,value in my_dict.items():\n",
    "      if (key == my_pattern[pattern_length]):\n",
    "         pattern_length = pattern_length + 1\n",
    "\n",
    "      if (pattern_length == (len(my_pattern))):\n",
    "         return 'The order of pattern is correct'\n",
    "\n",
    "   return 'The order of pattern is incorrect'\n",
    "\n",
    "print(check_order(\"engineering rocks\",'er'))"
   ]
  },
  {
   "cell_type": "code",
   "execution_count": 12,
   "id": "415072a7",
   "metadata": {},
   "outputs": [
    {
     "name": "stdout",
     "output_type": "stream",
     "text": [
      "[('aman', 500), ('anuj', 200), ('ritik', 700), ('roshan', 600)]\n"
     ]
    }
   ],
   "source": [
    "#Write a Python program to sort Python Dictionaries by Key or Value?\n",
    "dict2={'anuj':200,'aman':500,'roshan':600,'ritik':700}\n",
    "print(sorted(dict2.items(),key= lambda pair:pair[0]))"
   ]
  },
  {
   "cell_type": "code",
   "execution_count": null,
   "id": "adee14f4",
   "metadata": {},
   "outputs": [],
   "source": []
  }
 ],
 "metadata": {
  "kernelspec": {
   "display_name": "Python 3 (ipykernel)",
   "language": "python",
   "name": "python3"
  },
  "language_info": {
   "codemirror_mode": {
    "name": "ipython",
    "version": 3
   },
   "file_extension": ".py",
   "mimetype": "text/x-python",
   "name": "python",
   "nbconvert_exporter": "python",
   "pygments_lexer": "ipython3",
   "version": "3.9.12"
  }
 },
 "nbformat": 4,
 "nbformat_minor": 5
}
