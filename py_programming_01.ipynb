{
 "cells": [
  {
   "cell_type": "code",
   "execution_count": 2,
   "id": "9c56f3e1",
   "metadata": {},
   "outputs": [
    {
     "name": "stdout",
     "output_type": "stream",
     "text": [
      "Hello Python\n"
     ]
    }
   ],
   "source": [
    "#program to print Hello Python\n",
    "\n",
    "print(\"Hello Python\")"
   ]
  },
  {
   "cell_type": "code",
   "execution_count": 8,
   "id": "78ed43e9",
   "metadata": {},
   "outputs": [
    {
     "name": "stdout",
     "output_type": "stream",
     "text": [
      "addition is 30 division is 0.5\n"
     ]
    }
   ],
   "source": [
    "#Program to perform arithmetical operations addition and division\n",
    "\n",
    "a=10\n",
    "b=20\n",
    "\n",
    "add=a+b\n",
    "div=a/b\n",
    "\n",
    "print(\"addition is \"+ str(add) +\" division is \"+ str(div))\n"
   ]
  },
  {
   "cell_type": "code",
   "execution_count": 9,
   "id": "8f851b4c",
   "metadata": {},
   "outputs": [
    {
     "name": "stdout",
     "output_type": "stream",
     "text": [
      "area of trinagle is  42.0\n"
     ]
    }
   ],
   "source": [
    "#Program to print the area of triangle\n",
    "\n",
    "base = 12\n",
    "height = 7\n",
    "\n",
    "area = 1/2*base *height\n",
    "\n",
    "print(\"area of trinagle is \",area)"
   ]
  },
  {
   "cell_type": "code",
   "execution_count": 14,
   "id": "1efd664d",
   "metadata": {},
   "outputs": [
    {
     "name": "stdout",
     "output_type": "stream",
     "text": [
      "a =  11\n",
      "b =  10\n"
     ]
    }
   ],
   "source": [
    "#Program to swap two variables \n",
    "\n",
    "a=10\n",
    "b=11\n",
    "\n",
    "a= a+b\n",
    "b=a-b\n",
    "a=a-b\n",
    "\n",
    "print(\"a = \",a)\n",
    "print(\"b = \",b)"
   ]
  },
  {
   "cell_type": "code",
   "execution_count": 16,
   "id": "8cb736ff",
   "metadata": {},
   "outputs": [
    {
     "name": "stdout",
     "output_type": "stream",
     "text": [
      "the random value is  10\n"
     ]
    }
   ],
   "source": [
    "# Program to generate random number\n",
    "\n",
    "import random\n",
    "\n",
    "a= random.randint(0,14)\n",
    "print(\"the random value is \",a)"
   ]
  },
  {
   "cell_type": "code",
   "execution_count": null,
   "id": "557bfbdc",
   "metadata": {},
   "outputs": [],
   "source": []
  }
 ],
 "metadata": {
  "kernelspec": {
   "display_name": "Python 3 (ipykernel)",
   "language": "python",
   "name": "python3"
  },
  "language_info": {
   "codemirror_mode": {
    "name": "ipython",
    "version": 3
   },
   "file_extension": ".py",
   "mimetype": "text/x-python",
   "name": "python",
   "nbconvert_exporter": "python",
   "pygments_lexer": "ipython3",
   "version": "3.9.12"
  }
 },
 "nbformat": 4,
 "nbformat_minor": 5
}
